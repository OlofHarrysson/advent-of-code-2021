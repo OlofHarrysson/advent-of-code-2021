{
 "cells": [
  {
   "cell_type": "code",
   "execution_count": 13,
   "metadata": {},
   "outputs": [
    {
     "name": "stdout",
     "output_type": "stream",
     "text": [
      "1728414\n"
     ]
    }
   ],
   "source": [
    "from csv import reader\n",
    "hori_pos = 0\n",
    "depth = 0\n",
    "with open('exer2.csv', 'r') as read_obj:\n",
    "    csv_reader = reader(read_obj)\n",
    "    for row in csv_reader:\n",
    "        if row[0][0] == \"f\":\n",
    "            hori_pos += int(row[0][8])\n",
    "        elif row[0][0] == \"d\":\n",
    "            depth += int(row[0][5])\n",
    "        elif row[0][0] == \"u\":\n",
    "            depth -= int(row[0][3])\n",
    "print(depth*hori_pos)"
   ]
  },
  {
   "cell_type": "code",
   "execution_count": 5,
   "metadata": {},
   "outputs": [
    {
     "name": "stdout",
     "output_type": "stream",
     "text": [
      "1765720035\n"
     ]
    }
   ],
   "source": [
    "from csv import reader\n",
    "hori_pos = 0\n",
    "depth = 0\n",
    "aim = 0\n",
    "with open('exer2.csv', 'r') as read_obj:\n",
    "    csv_reader = reader(read_obj)\n",
    "    for row in csv_reader:\n",
    "        if row[0][0] == \"f\":\n",
    "            hori_pos += int(row[0][8])\n",
    "            depth += (aim*int(row[0][8]))\n",
    "        elif row[0][0] == \"d\":\n",
    "            aim += int(row[0][5])\n",
    "        elif row[0][0] == \"u\":\n",
    "            aim -= int(row[0][3])\n",
    "print(depth*hori_pos)"
   ]
  }
 ],
 "metadata": {
  "interpreter": {
   "hash": "b5a6c0b83a5f9320ddb316d9b8aa3c715c2d6a6be85ef1b450fc66453222da78"
  },
  "kernelspec": {
   "display_name": "Python 3.9.6 64-bit ('Databehandling_Fredrik_Hegardt-XTtkVxax': pipenv)",
   "language": "python",
   "name": "python3"
  },
  "language_info": {
   "codemirror_mode": {
    "name": "ipython",
    "version": 3
   },
   "file_extension": ".py",
   "mimetype": "text/x-python",
   "name": "python",
   "nbconvert_exporter": "python",
   "pygments_lexer": "ipython3",
   "version": "3.9.6"
  },
  "orig_nbformat": 4
 },
 "nbformat": 4,
 "nbformat_minor": 2
}
