{
 "cells": [
  {
   "cell_type": "code",
   "execution_count": 3,
   "metadata": {},
   "outputs": [
    {
     "name": "stdout",
     "output_type": "stream",
     "text": [
      "000010110001\n",
      "111101001110\n",
      "693486\n"
     ]
    }
   ],
   "source": [
    "from csv import reader\n",
    "gamma_rate=\"\"\n",
    "epsilon_rate=\"\"\n",
    "bin_list = []\n",
    "with open('exer3.csv', 'r') as read_obj:\n",
    "    csv_reader = reader(read_obj)\n",
    "    for row in csv_reader:\n",
    "        bin_list.append(row)\n",
    "\n",
    "for a in range(12):\n",
    "    one_counter = 0\n",
    "    zero_counter = 0\n",
    "    for b in range(len(bin_list)):\n",
    "        if(str(bin_list[b][0][a])) == \"1\":\n",
    "            one_counter +=1\n",
    "        else:\n",
    "            zero_counter +=1\n",
    "    if one_counter > zero_counter:\n",
    "        gamma_rate += \"1\"\n",
    "        epsilon_rate += \"0\"\n",
    "    else:\n",
    "        gamma_rate += \"0\"\n",
    "        epsilon_rate += \"1\"\n",
    "    \n",
    "print(gamma_rate)\n",
    "print(epsilon_rate)\n",
    "print((int(gamma_rate,2))*(int(epsilon_rate,2)))"
   ]
  },
  {
   "cell_type": "code",
   "execution_count": 21,
   "metadata": {},
   "outputs": [
    {
     "name": "stdout",
     "output_type": "stream",
     "text": [
      "3379326\n"
     ]
    }
   ],
   "source": [
    "from csv import reader\n",
    "gamma_rate=\"\"\n",
    "epsilon_rate=\"\"\n",
    "bin_list = []\n",
    "with open('exer3.csv', 'r') as read_obj:\n",
    "    csv_reader = reader(read_obj)\n",
    "    for row in csv_reader:\n",
    "        bin_list.append(row)\n",
    "\n",
    "            \n",
    "bin_list_high = bin_list\n",
    "bin_list_low = bin_list\n",
    "\n",
    "\n",
    "for a in range(12):\n",
    "    one_counter = 0\n",
    "    zero_counter = 0\n",
    "    one_list = []\n",
    "    zero_list = []\n",
    "    for b in range(len(bin_list_high)):\n",
    "        if len(bin_list_high)== 1:\n",
    "            oxygen_generator_rating = (bin_list_high[0][0])\n",
    "        if(str(bin_list_high[b][0][a])) == \"1\":\n",
    "            one_counter +=1\n",
    "            one_list.append(bin_list_high[b])\n",
    "        else:\n",
    "            zero_counter +=1\n",
    "            zero_list.append(bin_list_high[b])\n",
    "    if one_counter >= zero_counter:\n",
    "        bin_list_high = one_list\n",
    "    else:\n",
    "        bin_list_high = zero_list\n",
    "    if len(bin_list_high)== 1:\n",
    "            oxygen_generator_rating = (bin_list_high[0][0])\n",
    "\n",
    "\n",
    "for a in range(12):\n",
    "    one_counter = 0\n",
    "    zero_counter = 0\n",
    "    one_list = []\n",
    "    zero_list = []\n",
    "    for b in range(len(bin_list_low)):\n",
    "        if len(bin_list_low)== 1:\n",
    "            CO2_scrubber_rating = (bin_list_low[0][0])\n",
    "        if(str(bin_list_low[b][0][a])) == \"1\":\n",
    "                one_counter +=1\n",
    "                one_list.append(bin_list_low[b])\n",
    "        else:\n",
    "                zero_counter +=1\n",
    "                zero_list.append(bin_list_low[b])\n",
    "    if one_counter < zero_counter:\n",
    "        bin_list_low = one_list\n",
    "    else:\n",
    "        bin_list_low = zero_list\n",
    "    \n",
    "print((int(oxygen_generator_rating,2))*(int(CO2_scrubber_rating,2)))"
   ]
  }
 ],
 "metadata": {
  "interpreter": {
   "hash": "5240d1998bd1360560489128b0b85cbae06612a8d206712160bf2e32d6fff5ff"
  },
  "kernelspec": {
   "display_name": "Python 3.9.6 64-bit",
   "language": "python",
   "name": "python3"
  },
  "language_info": {
   "codemirror_mode": {
    "name": "ipython",
    "version": 3
   },
   "file_extension": ".py",
   "mimetype": "text/x-python",
   "name": "python",
   "nbconvert_exporter": "python",
   "pygments_lexer": "ipython3",
   "version": "3.9.6"
  },
  "orig_nbformat": 4
 },
 "nbformat": 4,
 "nbformat_minor": 2
}
