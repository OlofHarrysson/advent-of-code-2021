{
 "cells": [
  {
   "cell_type": "code",
   "execution_count": 29,
   "metadata": {},
   "outputs": [
    {
     "name": "stdout",
     "output_type": "stream",
     "text": [
      "336040.0\n"
     ]
    }
   ],
   "source": [
    "from csv import reader\n",
    "import statistics\n",
    "\n",
    "unsorted_list = []\n",
    "crab_pos_list = []\n",
    "with open('exer7.csv', 'r') as read_obj:\n",
    "    csv_reader = reader(read_obj)\n",
    "    for row in csv_reader:\n",
    "        unsorted_list.append(row)\n",
    "\n",
    "for i in range(len(unsorted_list[0])):\n",
    "    crab_pos_list.append(int(unsorted_list[0][i]))\n",
    "median = (statistics.median(crab_pos_list))\n",
    "answer = 0\n",
    "\n",
    "for i in range(len(crab_pos_list)):\n",
    "    if crab_pos_list[i] > median:\n",
    "        answer += (crab_pos_list[i] - median)\n",
    "    elif crab_pos_list[i] < median:\n",
    "        answer += (median - crab_pos_list[i])\n",
    "\n",
    "print(answer)"
   ]
  },
  {
   "cell_type": "code",
   "execution_count": 54,
   "metadata": {},
   "outputs": [
    {
     "name": "stdout",
     "output_type": "stream",
     "text": [
      "140\n",
      "SOLVED\n",
      "94813675\n",
      "[104551267, 104412156, 104274048, 104136941, 104000834, 103865728, 103731623, 103598521, 103466420, 103335319, 103205219, 103076120, 102948021, 102820922, 102694823, 102569725, 102445629, 102322535, 102200442, 102079352, 101959262, 101840172, 101722082, 101604994, 101488908, 101373823, 101259738, 101146653, 101034568, 100923484, 100813401, 100704319, 100596237, 100489156, 100383075, 100277994, 100173913, 100070832, 99968754, 99867677, 99767600, 99668524, 99570449, 99473374, 99377300, 99282228, 99188157, 99095089, 99003021, 98911953, 98821886, 98732819, 98644753, 98557687, 98471621, 98386556, 98302492, 98219428, 98137366, 98056304, 97976243, 97897183, 97819124, 97742066, 97666008, 97590951, 97516895, 97443839, 97371785, 97300731, 97230677, 97161623, 97093569, 97026516, 96960465, 96895414, 96831364, 96768315, 96706267, 96645220, 96585174, 96526129, 96468085, 96411041, 96354997, 96299956, 96245915, 96192874, 96140833, 96089792, 96039753, 95990714, 95942675, 95895636, 95849597, 95804558, 95760520, 95717482, 95675444, 95634407, 95594370, 95555333, 95517297, 95480261, 95444225, 95409191, 95375158, 95342125, 95310093, 95279062, 95249032, 95220004, 95191978, 95164954, 95138930, 95113907, 95089885, 95066864, 95044844, 95023825, 95003806, 94984789, 94966772, 94949759, 94933746, 94918735, 94904726, 94891717, 94879708, 94868701, 94858694, 94849687, 94841682, 94834677, 94828674, 94823673, 94819673, 94816673, 94814673, 94813675]\n"
     ]
    },
    {
     "data": {
      "text/plain": [
       "[<matplotlib.lines.Line2D at 0x23917749100>]"
      ]
     },
     "execution_count": 54,
     "metadata": {},
     "output_type": "execute_result"
    },
    {
     "data": {
      "image/png": "[encoded data removed]",
      "text/plain": [
       "<Figure size 432x288 with 1 Axes>"
      ]
     },
     "metadata": {
      "needs_background": "light"
     },
     "output_type": "display_data"
    }
   ],
   "source": [
    "from csv import reader\n",
    "import statistics\n",
    "import matplotlib.pyplot as plt\n",
    "\n",
    "def calculator(value):\n",
    "    output = 0\n",
    "    for i in range(value+1):\n",
    "        output += i\n",
    "    return output\n",
    "\n",
    "unsorted_list = []\n",
    "crab_pos_list = []\n",
    "with open('exer7.csv', 'r') as read_obj:\n",
    "    csv_reader = reader(read_obj)\n",
    "    for row in csv_reader:\n",
    "        unsorted_list.append(row)\n",
    "\n",
    "for i in range(len(unsorted_list[0])):\n",
    "    crab_pos_list.append(int(unsorted_list[0][i]))\n",
    "median = (statistics.median(crab_pos_list))\n",
    "\n",
    "answer_list = []\n",
    "last_answer = 100000000000\n",
    "for a in range(200):\n",
    "    median +=1\n",
    "    answer = 0\n",
    "    for i in range(len(crab_pos_list)):\n",
    "        if crab_pos_list[i] > median:\n",
    "            answer += calculator(int(crab_pos_list[i] - median))\n",
    "        elif crab_pos_list[i] < median:\n",
    "            answer += calculator(int(median - crab_pos_list[i]))\n",
    "    if last_answer < answer:\n",
    "        print(a)\n",
    "        print(\"SOLVED\")\n",
    "        print(last_answer)\n",
    "        break\n",
    "    last_answer = answer\n",
    "    answer_list.append(answer)\n",
    "\n",
    "print(answer_list)\n",
    "plt.plot(answer_list)"
   ]
  }
 ],
 "metadata": {
  "interpreter": {
   "hash": "b5a6c0b83a5f9320ddb316d9b8aa3c715c2d6a6be85ef1b450fc66453222da78"
  },
  "kernelspec": {
   "display_name": "Python 3.9.6 64-bit ('Databehandling_Fredrik_Hegardt-XTtkVxax': pipenv)",
   "language": "python",
   "name": "python3"
  },
  "language_info": {
   "name": "python",
   "version": "3.9.6"
  },
  "orig_nbformat": 4
 },
 "nbformat": 4,
 "nbformat_minor": 2
}
