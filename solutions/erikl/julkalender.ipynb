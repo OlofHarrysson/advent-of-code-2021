{
 "cells": [
  {
   "cell_type": "markdown",
   "metadata": {},
   "source": [
    "# Kodkalender 2021\n",
    "\n",
    "## Lucka 1\n",
    "### Del 1"
   ]
  },
  {
   "cell_type": "code",
   "execution_count": 1,
   "metadata": {},
   "outputs": [
    {
     "name": "stdout",
     "output_type": "stream",
     "text": [
      "Antal mätvärden med högre värde än föregående: 7\n"
     ]
    }
   ],
   "source": [
    "def läsin_fil(fil):\n",
    "    \n",
    "    with open(fil, \"r\") as f:\n",
    "        text = f.readlines()\n",
    "\n",
    "    return text\n",
    "    \n",
    "sökväg = \"files/exempel 1.txt\"\n",
    "#sökväg = \"files/input 1.txt\"\n",
    "\n",
    "lista_mätvärden = [int(l.strip()) for l in läsin_fil(sökväg)]\n",
    "\n",
    "antal_ökande = sum([mv - lista_mätvärden[i] > 0 for i, mv in enumerate(lista_mätvärden[1:])])\n",
    "\n",
    "print(f\"Antal mätvärden med högre värde än föregående: {antal_ökande}\")"
   ]
  },
  {
   "cell_type": "markdown",
   "metadata": {},
   "source": [
    "### Del 2"
   ]
  },
  {
   "cell_type": "code",
   "execution_count": 2,
   "metadata": {},
   "outputs": [
    {
     "name": "stdout",
     "output_type": "stream",
     "text": [
      "Antal tripletter med högre värde än föregående: 5\n"
     ]
    }
   ],
   "source": [
    "antal_ökande_tripletter = sum([mv - lista_mätvärden[i] > 0 for i,mv in enumerate(lista_mätvärden[3:])])\n",
    "\n",
    "print(f\"Antal tripletter med högre värde än föregående: {antal_ökande_tripletter}\")\n"
   ]
  },
  {
   "cell_type": "markdown",
   "metadata": {},
   "source": [
    "## Lucka 2\n",
    "### Del 1\n"
   ]
  },
  {
   "cell_type": "code",
   "execution_count": 3,
   "metadata": {},
   "outputs": [
    {
     "name": "stdout",
     "output_type": "stream",
     "text": [
      "Produkten av position framåt och djup: 150\n"
     ]
    }
   ],
   "source": [
    "sökväg = \"files/exempel 2.txt\"\n",
    "#sökväg = \"files/input 2.txt\"\n",
    "\n",
    "text = läsin_fil(sökväg)\n",
    "kommandon =[l.split() for l in text]\n",
    "\n",
    "framåt = sum([(int(k[1]) if k[0] == \"forward\" else 0)  for k in kommandon])\n",
    "djup = sum([(-int(k[1]) if k[0] == \"up\" else int(k[1]) if k[0] == \"down\" else 0)  for k in kommandon])\n",
    "\n",
    "print(f\"Produkten av position framåt och djup: {framåt * djup}\")"
   ]
  },
  {
   "cell_type": "markdown",
   "metadata": {},
   "source": [
    "### Del 2"
   ]
  },
  {
   "cell_type": "code",
   "execution_count": 4,
   "metadata": {},
   "outputs": [
    {
     "name": "stdout",
     "output_type": "stream",
     "text": [
      "Produkten av position framåt och djup: 900\n"
     ]
    }
   ],
   "source": [
    "framåt_sum, djup, sikte = 0, 0, 0\n",
    "\n",
    "for kom in kommandon:\n",
    "    framåt=0\n",
    "    kommando, kommando_värde =kom[0], int(kom[1])\n",
    "    \n",
    "    if kommando == \"forward\":\n",
    "        framåt=kommando_värde\n",
    "        framåt_sum += framåt \n",
    "\n",
    "    elif kommando == \"down\":\n",
    "        sikte += kommando_värde\n",
    "        \n",
    "    elif kommando == \"up\":\n",
    "        sikte -= kommando_värde\n",
    "    \n",
    "    djup += sikte * framåt\n",
    "\n",
    "print(f\"Produkten av position framåt och djup: {framåt_sum * djup}\")"
   ]
  },
  {
   "cell_type": "markdown",
   "metadata": {},
   "source": [
    "## Lucka 3\n",
    "### Del 1\n"
   ]
  },
  {
   "cell_type": "code",
   "execution_count": 5,
   "metadata": {},
   "outputs": [
    {
     "name": "stdout",
     "output_type": "stream",
     "text": [
      "Energiförbrukningen är 198\n"
     ]
    }
   ],
   "source": [
    "sökväg = \"files/exempel 3.txt\"\n",
    "#sökväg = \"files/input 3.txt\"\n",
    "\n",
    "text = läsin_fil(sökväg)\n",
    "diagnosrapport =[l.split() for l in text]\n",
    "\n",
    "antal_siffror = len(diagnosrapport[0][0])\n",
    "antal_rader = len(diagnosrapport)\n",
    "γ,ε = 0, 0\n",
    "\n",
    "for i in range (antal_siffror):       \n",
    "    vanligaste_siffra = round(sum([int(diagnosrapport[j][0][i]) for j in range(antal_rader)])/antal_rader) # Vad ska hända om det är lika? Här kommer 1 prioriteras.\n",
    "\n",
    "    γ += vanligaste_siffra * 10**(antal_siffror-1-i)\n",
    "    ε += (1 - vanligaste_siffra) * 10**(antal_siffror-1-i)\n",
    "\n",
    "energiförbrukning = int(str(ε),base=2)*int(str(γ),base=2)\n",
    "\n",
    "print(f\"Energiförbrukningen är {energiförbrukning}\")\n"
   ]
  },
  {
   "cell_type": "markdown",
   "metadata": {},
   "source": [
    "### Del 2"
   ]
  },
  {
   "cell_type": "code",
   "execution_count": 6,
   "metadata": {},
   "outputs": [
    {
     "name": "stdout",
     "output_type": "stream",
     "text": [
      "Livsupppehållande systemen har nivå: 230\n"
     ]
    }
   ],
   "source": [
    "def utvärdering(rapport, prioriterad_siffra ):\n",
    "    \"\"\"Utvärderar diagnosrapporten med avseende på vilken siffra som ska prioriteras \n",
    "    och väljer ut det enskilda värde uppfyller kriterierna\"\"\"\n",
    "    \n",
    "    kvarvarande_rader = rapport\n",
    "    antal_siffror = len(rapport[0][0])\n",
    "\n",
    "    for i in range (antal_siffror):       \n",
    "        antal_rader = len(kvarvarande_rader)\n",
    "        if antal_rader == 1: break\n",
    "\n",
    "        antal_ettor = sum([int(kvarvarande_rader[j][0][i]) for j in range(antal_rader)])\n",
    "        antal_nollor = antal_rader - antal_ettor\n",
    "        \n",
    "        if  antal_ettor > antal_nollor:\n",
    "            siffra_att_behålla = prioriterad_siffra\n",
    "        elif antal_nollor > antal_ettor:\n",
    "            siffra_att_behålla = 1 - prioriterad_siffra\n",
    "        else:\n",
    "            siffra_att_behålla = prioriterad_siffra\n",
    "\n",
    "        rader_att_spara = []\n",
    "        for rad in kvarvarande_rader:\n",
    "            if int(rad[0][i])== siffra_att_behålla:\n",
    "                rader_att_spara.append(rad)\n",
    "\n",
    "        kvarvarande_rader = rader_att_spara        \n",
    "    \n",
    "    return int(kvarvarande_rader[0][0], 2)\n",
    "\n",
    "syre_generering = utvärdering(diagnosrapport, 1)\n",
    "co2_rening = utvärdering(diagnosrapport, 0)\n",
    "liv = syre_generering * co2_rening\n",
    "\n",
    "print(f\"Livsupppehållande systemen har nivå: {liv}\")"
   ]
  },
  {
   "cell_type": "markdown",
   "metadata": {},
   "source": [
    "## Lucka 4\n",
    "### Del 1\n"
   ]
  },
  {
   "cell_type": "code",
   "execution_count": 13,
   "metadata": {},
   "outputs": [
    {
     "name": "stdout",
     "output_type": "stream",
     "text": [
      "Bingo!\n",
      "\n",
      "Summan av kvarvarande nummer på bingobrickan: 188. Sita dragna numret: 24\n",
      "Den slutliga poängen är: 4512\n"
     ]
    }
   ],
   "source": [
    "import numpy as np\n",
    "\n",
    "sökväg = \"files/exempel 4.txt\"\n",
    "#sökväg = \"files/input 4.txt\"\n",
    "\n",
    "def skapa_brickor(text):\n",
    "\n",
    "    längd_sida_bricka = 5\n",
    "    brickor = np.zeros(((len(text) - 1) // (längd_sida_bricka + 1), längd_sida_bricka, längd_sida_bricka) , np.int16)\n",
    "    brick_index = 0\n",
    "\n",
    "    for rad, text_rad in enumerate(text[2:]): \n",
    "        if text_rad:\n",
    "            for kol, text_kol in enumerate(text_rad.split()):\n",
    "                brickor[brick_index, rad % 6, kol]  = int(text_kol)\n",
    "\n",
    "        brick_index = (rad + 1) // 6\n",
    "    return brickor\n",
    "\n",
    "def kryssa_bricka():\n",
    "\n",
    "    tal_index = np.where(bingobrickor==nr)\n",
    "  \n",
    "    for i, v in enumerate(tal_index[0]):\n",
    "        if v in vinnande_brickor:\n",
    "            continue\n",
    "        \n",
    "        bingobrickor[tal_index[0][i], tal_index[1][i], tal_index[2][i]] = -1\n",
    "        \n",
    "        if bingobrickor[tal_index[0][i], tal_index[1][i], :].sum() == -5 or bingobrickor[tal_index[0][i], :, tal_index[2][i]].sum() == -5:\n",
    "            vinnande_brickor.append(tal_index[0][i]) \n",
    "            vinnande_nummer.append(nr)\n",
    "\n",
    "\n",
    "def poängräkning():\n",
    "\n",
    "    summa_kvarvarande_tal = np.where(bingobrickor[vinnande_brickor[-1]] >= 0, bingobrickor[vinnande_brickor[-1]], 0).sum()\n",
    "    slutgiltig_poäng = summa_kvarvarande_tal * vinnande_nummer[-1]\n",
    "    \n",
    "    print(F\"Summan av kvarvarande nummer på bingobrickan: {summa_kvarvarande_tal}. Sita dragna numret: {vinnande_nummer[-1]}\")\n",
    "    print(f\"Den slutliga poängen är: {slutgiltig_poäng}\")           \n",
    "\n",
    "\n",
    "text = läsin_fil(sökväg)\n",
    "dragningslista = eval(text[0]) \n",
    "bingobrickor = skapa_brickor(text)\n",
    "vinnande_brickor = []\n",
    "vinnande_nummer = []\n",
    "\n",
    "for nr in dragningslista:\n",
    "\n",
    "    kryssa_bricka()\n",
    "    \n",
    "    if vinnande_brickor:\n",
    "        print(\"Bingo!\\n\")\n",
    "        break\n",
    " \n",
    "if len(vinnande_brickor) > 1:\n",
    "    print(\"Flera brickor har Bingo!\\n\")\n",
    "    print(vinnande_brickor)\n",
    "\n",
    "poängräkning()"
   ]
  },
  {
   "cell_type": "markdown",
   "metadata": {},
   "source": [
    "### Del 2"
   ]
  },
  {
   "cell_type": "code",
   "execution_count": 12,
   "metadata": {},
   "outputs": [
    {
     "name": "stdout",
     "output_type": "stream",
     "text": [
      "Summan av kvarvarande nummer på bingobrickan: 388. Sita dragna numret: 49\n",
      "Den slutliga poängen är: 19012\n"
     ]
    }
   ],
   "source": [
    "bingobrickor = skapa_brickor(text)\n",
    "vinnande_brickor = []\n",
    "vinnande_nummer = []\n",
    "\n",
    "for nr in dragningslista:\n",
    "    \n",
    "    kryssa_bricka()\n",
    "    \n",
    "    if len(vinnande_brickor) == len(bingobrickor):\n",
    "        break\n",
    "\n",
    "poängräkning()"
   ]
  },
  {
   "cell_type": "markdown",
   "metadata": {},
   "source": [
    "## Lucka 5\n",
    "### Del 1\n"
   ]
  },
  {
   "cell_type": "code",
   "execution_count": 322,
   "metadata": {},
   "outputs": [],
   "source": [
    "def farliga_positioner(karta):\n",
    "    antal_farliga_positioner = len(np.where(karta>= 2)[0])\n",
    "    print(f\"Antalet farliga positioner är: {antal_farliga_positioner}\")\n"
   ]
  },
  {
   "cell_type": "code",
   "execution_count": 323,
   "metadata": {},
   "outputs": [],
   "source": [
    "sökväg = \"files/exempel 5.txt\"\n",
    "#sökväg = \"files/input 5.txt\"\n",
    "\n",
    "text = läsin_fil(sökväg)\n",
    "\n",
    "linjer_koordinater = np.array([eval(rad.replace(\" -> \",',')) for rad in text])\n",
    "y_dim, x_dim = linjer_koordinater[:, (0, 2)].max() + 1, linjer_koordinater[:, (1, 3)].max() + 1\n",
    "\n",
    "karta = np.zeros((y_dim, x_dim), np.int8)"
   ]
  },
  {
   "cell_type": "code",
   "execution_count": 324,
   "metadata": {},
   "outputs": [
    {
     "name": "stdout",
     "output_type": "stream",
     "text": [
      "Antalet farliga positioner är: 5\n"
     ]
    }
   ],
   "source": [
    "for linje in linjer_koordinater:\n",
    "    if linje[0] == linje [2] or linje[1] == linje [3]:\n",
    "        \n",
    "        y =sorted((linje[0],linje[2]))\n",
    "        x =sorted((linje[1],linje[3]))\n",
    "\n",
    "        karta[y[0]: y[1]+1, x[0]: x[1]+1] += 1\n",
    "\n",
    "farliga_positioner(karta)"
   ]
  },
  {
   "cell_type": "markdown",
   "metadata": {},
   "source": [
    "### Del 2"
   ]
  },
  {
   "cell_type": "code",
   "execution_count": 320,
   "metadata": {},
   "outputs": [
    {
     "name": "stdout",
     "output_type": "stream",
     "text": [
      "[[1 0 1 0 0 0 0 1 1 0]\n",
      " [0 1 1 1 0 0 0 2 0 0]\n",
      " [0 0 2 0 1 0 1 1 1 0]\n",
      " [0 0 0 1 0 2 0 2 0 0]\n",
      " [0 1 1 2 3 1 3 2 1 1]\n",
      " [0 0 0 1 0 2 0 0 0 0]\n",
      " [0 0 1 0 0 0 1 0 0 0]\n",
      " [0 1 0 0 0 0 0 1 0 0]\n",
      " [1 0 0 0 0 0 0 0 1 0]\n",
      " [2 2 2 1 1 1 0 0 0 0]]\n",
      "Antalet farliga positioner är: 12\n"
     ]
    }
   ],
   "source": [
    "for linje in linjer_koordinater:\n",
    "\n",
    "    y =((linje[0],linje[2]))\n",
    "    x =((linje[1],linje[3]))\n",
    "\n",
    "    if y[1] - y[0] >= 0 :\n",
    "        y2 =[yi for yi in range(y[0], y[1] + 1, 1)]\n",
    "    else:\n",
    "        y2 =[yi for yi in range(y[0], y[1] - 1, -1)]\n",
    "\n",
    "    if x[1] - x[0] >= 0:\n",
    "        x2 =[xi for xi in range(x[0], x[1] +1, 1)]\n",
    "    else:\n",
    "        x2 =[xi for xi in range(x[0] ,x[1] - 1, -1)]\n",
    "\n",
    "    if len(y2) == len(x2):\n",
    "        for yi, xi in zip(y2, x2):\n",
    "            karta[yi, xi] += 1 \n",
    "\n",
    "print(karta.transpose()) \n",
    "\n",
    "farliga_positioner(karta)"
   ]
  },
  {
   "cell_type": "markdown",
   "metadata": {},
   "source": [
    "## Lucka 6\n",
    "### Del 1\n"
   ]
  },
  {
   "cell_type": "code",
   "execution_count": 260,
   "metadata": {},
   "outputs": [
    {
     "data": {
      "text/plain": [
       "range(2, 0, -1)"
      ]
     },
     "execution_count": 260,
     "metadata": {},
     "output_type": "execute_result"
    }
   ],
   "source": []
  },
  {
   "cell_type": "markdown",
   "metadata": {},
   "source": [
    "### Del 2"
   ]
  },
  {
   "cell_type": "code",
   "execution_count": null,
   "metadata": {},
   "outputs": [],
   "source": []
  },
  {
   "cell_type": "markdown",
   "metadata": {},
   "source": [
    "## Lucka 7\n",
    "### Del 1\n"
   ]
  },
  {
   "cell_type": "markdown",
   "metadata": {},
   "source": [
    "### Del 2"
   ]
  },
  {
   "cell_type": "markdown",
   "metadata": {},
   "source": [
    "## Lucka 8\n",
    "### Del 1\n"
   ]
  },
  {
   "cell_type": "markdown",
   "metadata": {},
   "source": [
    "### Del 2"
   ]
  },
  {
   "cell_type": "markdown",
   "metadata": {},
   "source": [
    "## Lucka 9\n",
    "### Del 1\n"
   ]
  },
  {
   "cell_type": "markdown",
   "metadata": {},
   "source": [
    "### Del 2"
   ]
  },
  {
   "cell_type": "markdown",
   "metadata": {},
   "source": [
    "## Lucka 10\n",
    "### Del 1\n"
   ]
  },
  {
   "cell_type": "markdown",
   "metadata": {},
   "source": [
    "### Del 2"
   ]
  },
  {
   "cell_type": "markdown",
   "metadata": {},
   "source": [
    "## Lucka 11\n",
    "### Del 1\n"
   ]
  },
  {
   "cell_type": "markdown",
   "metadata": {},
   "source": [
    "### Del 2"
   ]
  },
  {
   "cell_type": "markdown",
   "metadata": {},
   "source": [
    "## Lucka 12\n",
    "### Del 1\n"
   ]
  },
  {
   "cell_type": "markdown",
   "metadata": {},
   "source": [
    "### Del 2"
   ]
  },
  {
   "cell_type": "markdown",
   "metadata": {},
   "source": [
    "## Lucka 13\n",
    "### Del 1\n"
   ]
  },
  {
   "cell_type": "markdown",
   "metadata": {},
   "source": [
    "### Del 2"
   ]
  },
  {
   "cell_type": "markdown",
   "metadata": {},
   "source": [
    "## Lucka 14\n",
    "### Del 1\n"
   ]
  },
  {
   "cell_type": "markdown",
   "metadata": {},
   "source": [
    "### Del 2"
   ]
  },
  {
   "cell_type": "markdown",
   "metadata": {},
   "source": [
    "## Lucka 15\n",
    "### Del 1\n"
   ]
  },
  {
   "cell_type": "markdown",
   "metadata": {},
   "source": [
    "### Del 2"
   ]
  },
  {
   "cell_type": "markdown",
   "metadata": {},
   "source": [
    "## Lucka 16\n",
    "### Del 1\n"
   ]
  },
  {
   "cell_type": "markdown",
   "metadata": {},
   "source": [
    "### Del 2"
   ]
  },
  {
   "cell_type": "markdown",
   "metadata": {},
   "source": [
    "## Lucka 17\n",
    "### Del 1\n"
   ]
  },
  {
   "cell_type": "markdown",
   "metadata": {},
   "source": [
    "### Del 2"
   ]
  },
  {
   "cell_type": "markdown",
   "metadata": {},
   "source": [
    "## Lucka 18\n",
    "### Del 1\n"
   ]
  },
  {
   "cell_type": "markdown",
   "metadata": {},
   "source": [
    "### Del 2"
   ]
  },
  {
   "cell_type": "markdown",
   "metadata": {},
   "source": [
    "## Lucka 19\n",
    "### Del 1\n"
   ]
  },
  {
   "cell_type": "markdown",
   "metadata": {},
   "source": [
    "### Del 2"
   ]
  },
  {
   "cell_type": "markdown",
   "metadata": {},
   "source": [
    "## Lucka 20\n",
    "### Del 1\n"
   ]
  },
  {
   "cell_type": "markdown",
   "metadata": {},
   "source": [
    "### Del 2"
   ]
  },
  {
   "cell_type": "markdown",
   "metadata": {},
   "source": [
    "## Lucka 21\n",
    "### Del 1\n"
   ]
  },
  {
   "cell_type": "markdown",
   "metadata": {},
   "source": [
    "### Del 2"
   ]
  },
  {
   "cell_type": "markdown",
   "metadata": {},
   "source": [
    "## Lucka 22\n",
    "### Del 1\n"
   ]
  },
  {
   "cell_type": "markdown",
   "metadata": {},
   "source": [
    "### Del 2"
   ]
  },
  {
   "cell_type": "markdown",
   "metadata": {},
   "source": [
    "## Lucka 23\n",
    "### Del 1\n"
   ]
  },
  {
   "cell_type": "markdown",
   "metadata": {},
   "source": [
    "### Del 2"
   ]
  },
  {
   "cell_type": "markdown",
   "metadata": {},
   "source": [
    "## Lucka 24\n",
    "### Del 1\n"
   ]
  },
  {
   "cell_type": "markdown",
   "metadata": {},
   "source": [
    "### Del 2"
   ]
  },
  {
   "cell_type": "markdown",
   "metadata": {},
   "source": [
    "## Lucka 25\n",
    "### Del 1\n"
   ]
  },
  {
   "cell_type": "markdown",
   "metadata": {},
   "source": [
    "### Del 2"
   ]
  }
 ],
 "metadata": {
  "interpreter": {
   "hash": "f478fc9176ae27b1fcbca8069f8c2be4be0c1bc7299e1ed03f2b6fc59f3faf8f"
  },
  "kernelspec": {
   "display_name": "Python 3.9.7 64-bit ('python-programming-Erik-Larsson-ctfcgb4Z': pipenv)",
   "language": "python",
   "name": "python3"
  },
  "language_info": {
   "codemirror_mode": {
    "name": "ipython",
    "version": 3
   },
   "file_extension": ".py",
   "mimetype": "text/x-python",
   "name": "python",
   "nbconvert_exporter": "python",
   "pygments_lexer": "ipython3",
   "version": "3.9.7"
  },
  "orig_nbformat": 4
 },
 "nbformat": 4,
 "nbformat_minor": 2
}
