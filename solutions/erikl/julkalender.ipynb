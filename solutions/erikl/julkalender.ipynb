{
 "cells": [
  {
   "cell_type": "markdown",
   "metadata": {},
   "source": [
    "# Kodkalender 2021\n",
    "\n",
    "## Lucka 1\n",
    "### Del 1"
   ]
  },
  {
   "cell_type": "code",
   "execution_count": 1,
   "metadata": {},
   "outputs": [
    {
     "name": "stdout",
     "output_type": "stream",
     "text": [
      "Antal mätvärden med högre värde än föregående: 7\n"
     ]
    }
   ],
   "source": [
    "def läsin_fil(fil):\n",
    "    \n",
    "    with open(fil, \"r\") as f:\n",
    "        text = f.readlines()\n",
    "\n",
    "    return text\n",
    "    \n",
    "sökväg = \"files/exempel 1.txt\"\n",
    "#sökväg = \"files/input 1.txt\"\n",
    "\n",
    "lista_mätvärden = [int(l.strip()) for l in läsin_fil(sökväg)]\n",
    "\n",
    "antal_ökande = sum([mv - lista_mätvärden[i] > 0 for i, mv in enumerate(lista_mätvärden[1:])])\n",
    "\n",
    "print(f\"Antal mätvärden med högre värde än föregående: {antal_ökande}\")"
   ]
  },
  {
   "cell_type": "markdown",
   "metadata": {},
   "source": [
    "### Del 2"
   ]
  },
  {
   "cell_type": "code",
   "execution_count": 2,
   "metadata": {},
   "outputs": [
    {
     "name": "stdout",
     "output_type": "stream",
     "text": [
      "Antal tripletter med högre värde än föregående: 5\n"
     ]
    }
   ],
   "source": [
    "antal_ökande_tripletter = sum([mv - lista_mätvärden[i] > 0 for i,mv in enumerate(lista_mätvärden[3:])])\n",
    "\n",
    "print(f\"Antal tripletter med högre värde än föregående: {antal_ökande_tripletter}\")\n"
   ]
  },
  {
   "cell_type": "markdown",
   "metadata": {},
   "source": [
    "## Lucka 2\n",
    "### Del 1\n"
   ]
  },
  {
   "cell_type": "code",
   "execution_count": 3,
   "metadata": {},
   "outputs": [
    {
     "name": "stdout",
     "output_type": "stream",
     "text": [
      "Produkten av position framåt och djup: 150\n"
     ]
    }
   ],
   "source": [
    "sökväg = \"files/exempel 2.txt\"\n",
    "#sökväg = \"files/input 2.txt\"\n",
    "\n",
    "text = läsin_fil(sökväg)\n",
    "kommandon =[l.split() for l in text]\n",
    "\n",
    "framåt = sum([(int(k[1]) if k[0] == \"forward\" else 0)  for k in kommandon])\n",
    "djup = sum([(-int(k[1]) if k[0] == \"up\" else int(k[1]) if k[0] == \"down\" else 0)  for k in kommandon])\n",
    "\n",
    "print(f\"Produkten av position framåt och djup: {framåt * djup}\")"
   ]
  },
  {
   "cell_type": "markdown",
   "metadata": {},
   "source": [
    "### Del 2"
   ]
  },
  {
   "cell_type": "code",
   "execution_count": 4,
   "metadata": {},
   "outputs": [
    {
     "name": "stdout",
     "output_type": "stream",
     "text": [
      "Produkten av position framåt och djup: 900\n"
     ]
    }
   ],
   "source": [
    "framåt_sum, djup, sikte = 0, 0, 0\n",
    "\n",
    "for kom in kommandon:\n",
    "    framåt=0\n",
    "    kommando, kommando_värde =kom[0], int(kom[1])\n",
    "    \n",
    "    if kommando == \"forward\":\n",
    "        framåt=kommando_värde\n",
    "        framåt_sum += framåt \n",
    "\n",
    "    elif kommando == \"down\":\n",
    "        sikte += kommando_värde\n",
    "        \n",
    "    elif kommando == \"up\":\n",
    "        sikte -= kommando_värde\n",
    "    \n",
    "    djup += sikte * framåt\n",
    "\n",
    "print(f\"Produkten av position framåt och djup: {framåt_sum * djup}\")"
   ]
  },
  {
   "cell_type": "markdown",
   "metadata": {},
   "source": [
    "## Lucka 3\n",
    "### Del 1\n"
   ]
  },
  {
   "cell_type": "code",
   "execution_count": 5,
   "metadata": {},
   "outputs": [
    {
     "name": "stdout",
     "output_type": "stream",
     "text": [
      "Energiförbrukningen är 198\n"
     ]
    }
   ],
   "source": [
    "sökväg = \"files/exempel 3.txt\"\n",
    "#sökväg = \"files/input 3.txt\"\n",
    "\n",
    "text = läsin_fil(sökväg)\n",
    "diagnosrapport =[l.split() for l in text]\n",
    "\n",
    "antal_siffror = len(diagnosrapport[0][0])\n",
    "antal_rader = len(diagnosrapport)\n",
    "γ,ε = 0, 0\n",
    "\n",
    "for i in range (antal_siffror):       \n",
    "    vanligaste_siffra = round(sum([int(diagnosrapport[j][0][i]) for j in range(antal_rader)])/antal_rader) # Vad ska hända om det är lika? Här kommer 1 prioriteras.\n",
    "\n",
    "    γ += vanligaste_siffra * 10**(antal_siffror-1-i)\n",
    "    ε += (1 - vanligaste_siffra) * 10**(antal_siffror-1-i)\n",
    "\n",
    "energiförbrukning = int(str(ε),base=2)*int(str(γ),base=2)\n",
    "\n",
    "print(f\"Energiförbrukningen är {energiförbrukning}\")\n"
   ]
  },
  {
   "cell_type": "markdown",
   "metadata": {},
   "source": [
    "### Del 2"
   ]
  },
  {
   "cell_type": "code",
   "execution_count": 6,
   "metadata": {},
   "outputs": [
    {
     "name": "stdout",
     "output_type": "stream",
     "text": [
      "Livsupppehållande systemen har nivå: 230\n"
     ]
    }
   ],
   "source": [
    "def utvärdering(rapport, prioriterad_siffra ):\n",
    "    \"\"\"Utvärderar diagnosrapporten med avseende på vilken siffra som ska prioriteras \n",
    "    och väljer ut det enskilda värde uppfyller kriterierna\"\"\"\n",
    "    \n",
    "    kvarvarande_rader = rapport\n",
    "    antal_siffror = len(rapport[0][0])\n",
    "\n",
    "    for i in range (antal_siffror):       \n",
    "        antal_rader = len(kvarvarande_rader)\n",
    "        if antal_rader == 1: break\n",
    "\n",
    "        antal_ettor = sum([int(kvarvarande_rader[j][0][i]) for j in range(antal_rader)])\n",
    "        antal_nollor = antal_rader - antal_ettor\n",
    "        \n",
    "        if  antal_ettor > antal_nollor:\n",
    "            siffra_att_behålla = prioriterad_siffra\n",
    "        elif antal_nollor > antal_ettor:\n",
    "            siffra_att_behålla = 1 - prioriterad_siffra\n",
    "        else:\n",
    "            siffra_att_behålla = prioriterad_siffra\n",
    "\n",
    "        rader_att_spara = []\n",
    "        for rad in kvarvarande_rader:\n",
    "            if int(rad[0][i])== siffra_att_behålla:\n",
    "                rader_att_spara.append(rad)\n",
    "\n",
    "        kvarvarande_rader = rader_att_spara        \n",
    "    \n",
    "    return int(kvarvarande_rader[0][0], 2)\n",
    "\n",
    "syre_generering = utvärdering(diagnosrapport, 1)\n",
    "co2_rening = utvärdering(diagnosrapport, 0)\n",
    "liv = syre_generering * co2_rening\n",
    "\n",
    "print(f\"Livsupppehållande systemen har nivå: {liv}\")"
   ]
  },
  {
   "cell_type": "markdown",
   "metadata": {},
   "source": [
    "## Lucka 4\n",
    "### Del 1\n"
   ]
  },
  {
   "cell_type": "code",
   "execution_count": 7,
   "metadata": {},
   "outputs": [
    {
     "name": "stdout",
     "output_type": "stream",
     "text": [
      "Bingo!\n",
      "\n",
      "Summan av kvarvarande nummer på bingobrickan: 188. Sita dragna numret: 24\n",
      "Den slutliga poängen är: 4512\n"
     ]
    }
   ],
   "source": [
    "import numpy as np\n",
    "\n",
    "sökväg = \"files/exempel 4.txt\"\n",
    "#sökväg = \"files/input 4.txt\"\n",
    "\n",
    "def skapa_brickor(text):\n",
    "\n",
    "    längd_sida_bricka = 5\n",
    "    brickor = np.zeros(((len(text) - 1) // (längd_sida_bricka + 1), längd_sida_bricka, längd_sida_bricka) , np.int16)\n",
    "    brick_index = 0\n",
    "\n",
    "    for rad, text_rad in enumerate(text[2:]): \n",
    "        if text_rad:\n",
    "            for kol, text_kol in enumerate(text_rad.split()):\n",
    "                brickor[brick_index, rad % 6, kol]  = int(text_kol)\n",
    "\n",
    "        brick_index = (rad + 1) // 6\n",
    "    return brickor\n",
    "\n",
    "def kryssa_bricka():\n",
    "\n",
    "    tal_index = np.where(bingobrickor==nr)\n",
    "  \n",
    "    for i, v in enumerate(tal_index[0]):\n",
    "        if v in vinnande_brickor:\n",
    "            continue\n",
    "        \n",
    "        bingobrickor[tal_index[0][i], tal_index[1][i], tal_index[2][i]] = -1\n",
    "        \n",
    "        if bingobrickor[tal_index[0][i], tal_index[1][i], :].sum() == -5 or bingobrickor[tal_index[0][i], :, tal_index[2][i]].sum() == -5:\n",
    "            vinnande_brickor.append(tal_index[0][i]) \n",
    "            vinnande_nummer.append(nr)\n",
    "\n",
    "\n",
    "def poängräkning():\n",
    "\n",
    "    summa_kvarvarande_tal = np.where(bingobrickor[vinnande_brickor[-1]] >= 0, bingobrickor[vinnande_brickor[-1]], 0).sum()\n",
    "    slutgiltig_poäng = summa_kvarvarande_tal * vinnande_nummer[-1]\n",
    "    \n",
    "    print(F\"Summan av kvarvarande nummer på bingobrickan: {summa_kvarvarande_tal}. Sita dragna numret: {vinnande_nummer[-1]}\")\n",
    "    print(f\"Den slutliga poängen är: {slutgiltig_poäng}\")           \n",
    "\n",
    "\n",
    "text = läsin_fil(sökväg)\n",
    "dragningslista = eval(text[0]) \n",
    "bingobrickor = skapa_brickor(text)\n",
    "vinnande_brickor = []\n",
    "vinnande_nummer = []\n",
    "\n",
    "for nr in dragningslista:\n",
    "\n",
    "    kryssa_bricka()\n",
    "    \n",
    "    if vinnande_brickor:\n",
    "        print(\"Bingo!\\n\")\n",
    "        break\n",
    " \n",
    "if len(vinnande_brickor) > 1:\n",
    "    print(\"Flera brickor har Bingo!\\n\")\n",
    "    print(vinnande_brickor)\n",
    "\n",
    "poängräkning()"
   ]
  },
  {
   "cell_type": "markdown",
   "metadata": {},
   "source": [
    "### Del 2"
   ]
  },
  {
   "cell_type": "code",
   "execution_count": 8,
   "metadata": {},
   "outputs": [
    {
     "name": "stdout",
     "output_type": "stream",
     "text": [
      "Summan av kvarvarande nummer på bingobrickan: 148. Sita dragna numret: 13\n",
      "Den slutliga poängen är: 1924\n"
     ]
    }
   ],
   "source": [
    "bingobrickor = skapa_brickor(text)\n",
    "vinnande_brickor = []\n",
    "vinnande_nummer = []\n",
    "\n",
    "for nr in dragningslista:\n",
    "    \n",
    "    kryssa_bricka()\n",
    "    \n",
    "    if len(vinnande_brickor) == len(bingobrickor):\n",
    "        break\n",
    "\n",
    "poängräkning()"
   ]
  },
  {
   "cell_type": "markdown",
   "metadata": {},
   "source": [
    "## Lucka 5\n",
    "### Del 1\n"
   ]
  },
  {
   "cell_type": "code",
   "execution_count": 9,
   "metadata": {},
   "outputs": [],
   "source": [
    "def farliga_positioner(karta):\n",
    "    antal_farliga_positioner = len(np.where(karta>= 2)[0])\n",
    "    print(f\"Antalet farliga positioner är: {antal_farliga_positioner}\")\n"
   ]
  },
  {
   "cell_type": "code",
   "execution_count": 10,
   "metadata": {},
   "outputs": [],
   "source": [
    "sökväg = \"files/exempel 5.txt\"\n",
    "#sökväg = \"files/input 5.txt\"\n",
    "\n",
    "text = läsin_fil(sökväg)\n",
    "\n",
    "linjer_koordinater = np.array([eval(rad.replace(\" -> \",',')) for rad in text])\n",
    "y_dim, x_dim = linjer_koordinater[:, (0, 2)].max() + 1, linjer_koordinater[:, (1, 3)].max() + 1\n",
    "\n",
    "karta = np.zeros((y_dim, x_dim), np.int8)"
   ]
  },
  {
   "cell_type": "code",
   "execution_count": 11,
   "metadata": {},
   "outputs": [
    {
     "name": "stdout",
     "output_type": "stream",
     "text": [
      "Antalet farliga positioner är: 5\n"
     ]
    }
   ],
   "source": [
    "for linje in linjer_koordinater:\n",
    "    if linje[0] == linje [2] or linje[1] == linje [3]:\n",
    "        \n",
    "        y =sorted((linje[0],linje[2]))\n",
    "        x =sorted((linje[1],linje[3]))\n",
    "\n",
    "        karta[y[0]: y[1]+1, x[0]: x[1]+1] += 1\n",
    "\n",
    "farliga_positioner(karta)"
   ]
  },
  {
   "cell_type": "markdown",
   "metadata": {},
   "source": [
    "### Del 2"
   ]
  },
  {
   "cell_type": "code",
   "execution_count": 12,
   "metadata": {},
   "outputs": [
    {
     "name": "stdout",
     "output_type": "stream",
     "text": [
      "[[1 0 1 0 0 0 0 1 1 0]\n",
      " [0 1 1 1 0 0 0 2 0 0]\n",
      " [0 0 2 0 1 0 1 1 1 0]\n",
      " [0 0 0 1 0 2 0 2 0 0]\n",
      " [0 1 1 2 3 1 3 2 1 1]\n",
      " [0 0 0 1 0 2 0 0 0 0]\n",
      " [0 0 1 0 0 0 1 0 0 0]\n",
      " [0 1 0 0 0 0 0 1 0 0]\n",
      " [1 0 0 0 0 0 0 0 1 0]\n",
      " [2 2 2 1 1 1 0 0 0 0]]\n",
      "Antalet farliga positioner är: 12\n"
     ]
    }
   ],
   "source": [
    "for linje in linjer_koordinater:\n",
    "\n",
    "    y =((linje[0],linje[2]))\n",
    "    x =((linje[1],linje[3]))\n",
    "\n",
    "    if y[1] - y[0] >= 0 :\n",
    "        y2 =[yi for yi in range(y[0], y[1] + 1, 1)]\n",
    "    else:\n",
    "        y2 =[yi for yi in range(y[0], y[1] - 1, -1)]\n",
    "\n",
    "    if x[1] - x[0] >= 0:\n",
    "        x2 =[xi for xi in range(x[0], x[1] +1, 1)]\n",
    "    else:\n",
    "        x2 =[xi for xi in range(x[0] ,x[1] - 1, -1)]\n",
    "\n",
    "    if len(y2) == len(x2):\n",
    "        for yi, xi in zip(y2, x2):\n",
    "            karta[yi, xi] += 1 \n",
    "\n",
    "print(karta.transpose()) \n",
    "\n",
    "farliga_positioner(karta)"
   ]
  },
  {
   "cell_type": "markdown",
   "metadata": {},
   "source": [
    "## Lucka 6\n",
    "### Del 1\n"
   ]
  },
  {
   "cell_type": "code",
   "execution_count": 13,
   "metadata": {},
   "outputs": [
    {
     "name": "stdout",
     "output_type": "stream",
     "text": [
      "Antalet fiskar efter 80 dagar är 5934 st.\n"
     ]
    }
   ],
   "source": [
    "#Långsam och minneskrävande lösning :(\n",
    "\n",
    "sökväg = \"files/exempel 6.txt\"\n",
    "#sökväg = \"files/input 6.txt\"\n",
    "\n",
    "#antal_dagar = 18\n",
    "antal_dagar = 80\n",
    "\n",
    "alla_fiskar = np.array(eval(läsin_fil(sökväg)[0]))\n",
    "\n",
    "for i in range(antal_dagar):\n",
    "    #print(i)\n",
    "    alla_fiskar -= 1\n",
    "    nya_fiskar = np.where(alla_fiskar == -1)[0]\n",
    "    \n",
    "    alla_fiskar[nya_fiskar] = 6\n",
    "    alla_fiskar = np.append(alla_fiskar, [8 for _ in range(nya_fiskar.size)])\n",
    "\n",
    "print(f\"Antalet fiskar efter {antal_dagar} dagar är {alla_fiskar.size} st.\")"
   ]
  },
  {
   "cell_type": "markdown",
   "metadata": {},
   "source": [
    "### Del 2"
   ]
  },
  {
   "cell_type": "code",
   "execution_count": 14,
   "metadata": {},
   "outputs": [
    {
     "name": "stdout",
     "output_type": "stream",
     "text": [
      "Antalet fiskar efter 80 dagar är 5934 st.\n"
     ]
    }
   ],
   "source": [
    "# Betydligt effektivare lösning :D\n",
    "\n",
    "sökväg = \"files/exempel 6.txt\"\n",
    "#sökväg = \"files/input 6.txt\"\n",
    "\n",
    "#antal_dagar = 18\n",
    "antal_dagar = 80\n",
    "#antal_dagar = 256\n",
    "\n",
    "fiskar_vid_dag_0 = np.array(eval(läsin_fil(sökväg)[0]))\n",
    "alla_fiskar = np.array([(fiskar_vid_dag_0 == i).sum()  for i in range (9)], np.int64)\n",
    "\n",
    "for i in range(antal_dagar):\n",
    "\n",
    "    alla_fiskar = np.roll(alla_fiskar, -1)\n",
    "    alla_fiskar[6] += alla_fiskar[8]\n",
    "\n",
    "print(f\"Antalet fiskar efter {antal_dagar} dagar är {alla_fiskar.sum()} st.\")"
   ]
  },
  {
   "cell_type": "markdown",
   "metadata": {},
   "source": [
    "## Lucka 7\n",
    "### Del 1\n"
   ]
  },
  {
   "cell_type": "code",
   "execution_count": 15,
   "metadata": {},
   "outputs": [],
   "source": [
    "sökväg = \"files/exempel 7.txt\"\n",
    "sökväg = \"files/input 7.txt\"\n",
    "\n",
    "krabbor_position = np.array(eval(läsin_fil(sökväg)[0]))\n",
    "intervall_positioner = range(krabbor_position.min(), krabbor_position.max() + 1)"
   ]
  },
  {
   "cell_type": "code",
   "execution_count": 16,
   "metadata": {},
   "outputs": [
    {
     "name": "stdout",
     "output_type": "stream",
     "text": [
      "Den lägta bränsleförbrukningen är 348664\n"
     ]
    }
   ],
   "source": [
    "lägsta_bränsleförbrukning = min([np.absolute(krabbor_position - p).sum() for p in intervall_positioner])\n",
    "print(f\"Den lägta bränsleförbrukningen är {lägsta_bränsleförbrukning}\")"
   ]
  },
  {
   "cell_type": "markdown",
   "metadata": {},
   "source": [
    "### Del 2"
   ]
  },
  {
   "cell_type": "code",
   "execution_count": 17,
   "metadata": {},
   "outputs": [
    {
     "name": "stdout",
     "output_type": "stream",
     "text": [
      "Den lägta bränsleförbrukningen är 100220525.0\n"
     ]
    }
   ],
   "source": [
    "lägsta_bränsleförbrukning = min([sum([(i**2+i)/2 for i in (np.absolute(krabbor_position - p))]) for p in intervall_positioner]) \n",
    "\n",
    "print(f\"Den lägta bränsleförbrukningen är {lägsta_bränsleförbrukning}\")"
   ]
  },
  {
   "cell_type": "code",
   "execution_count": 18,
   "metadata": {},
   "outputs": [
    {
     "data": {
      "text/plain": [
       "(479.0, 480.0)"
      ]
     },
     "execution_count": 18,
     "metadata": {},
     "output_type": "execute_result"
    }
   ],
   "source": [
    "# Smaratare sätt är att bara räkna ut bränsleförbrukningen för positionerna närmast medelvärdet.\n",
    "np.floor(krabbor_position.mean()), np.ceil(krabbor_position.mean())"
   ]
  },
  {
   "cell_type": "markdown",
   "metadata": {},
   "source": [
    "## Lucka 8\n",
    "### Del 1\n"
   ]
  },
  {
   "cell_type": "code",
   "execution_count": 19,
   "metadata": {},
   "outputs": [],
   "source": [
    "sökväg = \"files/exempel 8.txt\"\n",
    "#sökväg = \"files/input 8.txt\"\n",
    "\n",
    "text = läsin_fil(sökväg)\n",
    "text = [ text[i].strip() + \" \" + text[i+1]  for i in range(0, len(text), 2)] # Endast för exempeldata med radbrytning\n",
    "data = [rad.split(\" \") for rad in text]"
   ]
  },
  {
   "cell_type": "code",
   "execution_count": 20,
   "metadata": {},
   "outputs": [
    {
     "name": "stdout",
     "output_type": "stream",
     "text": [
      "Antalet siffror (1, 4, 7, 8) är: 26\n"
     ]
    }
   ],
   "source": [
    "# Alternativ lösning 1\n",
    "antal_siffror = 0\n",
    "for rad in data:\n",
    "    for siffra in rad[11:]:\n",
    "        antal_segment = len(siffra.strip())\n",
    "        if 2 <= antal_segment <= 4 or antal_segment == 7:\n",
    "            antal_siffror += 1\n",
    "           \n",
    "print(f\"Antalet siffror (1, 4, 7, 8) är: {antal_siffror}\")"
   ]
  },
  {
   "cell_type": "code",
   "execution_count": 21,
   "metadata": {},
   "outputs": [
    {
     "name": "stdout",
     "output_type": "stream",
     "text": [
      "Antalet siffror (1, 4, 7, 8) är: 26\n"
     ]
    }
   ],
   "source": [
    "# Alternativ lösning 2\n",
    "antal_siffror = sum([sum([(1 if 2 <= len(siffra.strip()) <= 4 or len(siffra.strip()) ==7 else 0) for siffra in rad[11:]]) for rad in data])\n",
    "\n",
    "print(f\"Antalet siffror (1, 4, 7, 8) är: {antal_siffror}\")"
   ]
  },
  {
   "cell_type": "markdown",
   "metadata": {},
   "source": [
    "### Del 2\n",
    "\n",
    "Vilken röra..."
   ]
  },
  {
   "cell_type": "code",
   "execution_count": 22,
   "metadata": {},
   "outputs": [],
   "source": [
    "def hitta_låga_ingångar(display_siffra):\n",
    "    \"\"\"Hitta de rader i kopplingschemat som motsvarare bokstäver som inte förekommer i strängen.\"\"\"\n",
    "\n",
    "    ingångar = [i for i in  range (7)]\n",
    "    for bokstav in display_siffra:\n",
    "        ingångar[ord(bokstav) - ord('a')] = -1\n",
    "    ingångar = list(set(ingångar))\n",
    "    ingångar.sort()\n",
    "    ingångar.pop(0)\n",
    "    return ingångar          "
   ]
  },
  {
   "cell_type": "code",
   "execution_count": 23,
   "metadata": {},
   "outputs": [
    {
     "name": "stdout",
     "output_type": "stream",
     "text": [
      "Den totala summan av talen på displayerna är 61229\n"
     ]
    }
   ],
   "source": [
    "segment_per_siffra = {  (0, 1, 2, 4, 5, 6)      : 0,\n",
    "                        (2, 5)                  : 1,\n",
    "                        (0, 2, 3, 4, 6)         : 2,\n",
    "                        (0, 2, 3, 5, 6)         : 3,\n",
    "                        (1, 2, 3, 5)            : 4,\n",
    "                        (0, 1, 3, 5, 6)         : 5,\n",
    "                        (0, 1, 3, 4, 5, 6)      : 6,\n",
    "                        (0, 2, 5)               : 7,\n",
    "                        (0, 1, 2, 3, 4, 5, 6)   : 8,\n",
    "                        (0, 1, 2, 3, 5, 6)      : 9\n",
    "}\n",
    "\n",
    "total_summa = 0\n",
    "\n",
    "for display_i in data:\n",
    "    kopplingsschema = np.ones((7, 7))\n",
    "\n",
    "    # Kopplingar som kan uteslutas direkt beroende på antal segment aktiva\n",
    "    for display_siffra_j in display_i:\n",
    "        display_siffra_j = display_siffra_j.strip()\n",
    "       \n",
    "        antal_segment = len(display_siffra_j)\n",
    "        \n",
    "        if antal_segment == 2:\n",
    "            segment = (2, 5)\n",
    "            aktiv_lista = True \n",
    "                   \n",
    "        elif antal_segment == 3:\n",
    "            segment = (0, 2, 5)\n",
    "            aktiv_lista = True  \n",
    "\n",
    "        elif antal_segment == 4:\n",
    "            segment = (1, 2, 3, 5)\n",
    "            aktiv_lista = True  \n",
    "\n",
    "        elif antal_segment == 5:\n",
    "            segment = (1, 2, 4, 5)\n",
    "            aktiv_lista = False \n",
    "\n",
    "        elif antal_segment == 6:\n",
    "            segment = (2, 3, 4)\n",
    "            aktiv_lista = False\n",
    "        else:\n",
    "            continue\n",
    "\n",
    "        if aktiv_lista:\n",
    "            for ingång in display_siffra_j:\n",
    "                ingång_index = ord(ingång)-ord('a')\n",
    "            \n",
    "                for k in range(7):\n",
    "                    if not k in segment:\n",
    "                        kopplingsschema[ingång_index, k] = 0  \n",
    "                    \n",
    "\n",
    "        låga_ingångar =hitta_låga_ingångar(display_siffra_j)\n",
    "\n",
    "        for rad in låga_ingångar:\n",
    "            for k in range(7):\n",
    "                if (k in segment and aktiv_lista) or (not k in segment and not aktiv_lista):\n",
    "                    kopplingsschema[rad, k] = 0\n",
    "                    \n",
    "\n",
    "    kopplingsschema_o = 0 \n",
    "    while not (kopplingsschema == kopplingsschema_o).all():\n",
    "        kopplingsschema_o = kopplingsschema\n",
    "        \n",
    "        for display_siffra_k in display_i:\n",
    "            display_siffra_k = display_siffra_k.strip()\n",
    "            antal_segment = len(display_siffra_k)\n",
    "            \n",
    "            if antal_segment == 5:\n",
    "\n",
    "                låga_ingångar =hitta_låga_ingångar(display_siffra_k)\n",
    "            \n",
    "                for j, ingång_j in enumerate(låga_ingångar):\n",
    "                    if kopplingsschema[ingång_j, 2] == 0 and kopplingsschema[ingång_j, 4] == 0:\n",
    "                        kopplingsschema[låga_ingångar[1-j], 2] = 0  \n",
    "        \n",
    "                    if kopplingsschema[ingång_j, 1] == 0 and kopplingsschema[ingång_j, 5] == 0:\n",
    "                        kopplingsschema[låga_ingångar[1-j], 5] = 0  \n",
    "                   \n",
    "        # Sudoku rensa kol omm endast 1 etta på rad  \n",
    "        for j, ingång_j in enumerate(kopplingsschema):\n",
    "            if ingång_j.sum() == 1:\n",
    "                index = np.where(ingång_j == 1)[0][0]\n",
    "                kopplingsschema[:,index] = 0 \n",
    "                kopplingsschema[j, index ] = 1 \n",
    "\n",
    "    # Omvandla indata till siffror\n",
    "    siffror = \"\"\n",
    "    for display_siffra_l in display_i[-4:]:\n",
    "        display_siffra_l = display_siffra_l.strip()\n",
    "\n",
    "        aktiva_segment =[ np.where(kopplingsschema[ ord(tecken) - ord('a')])[0][0] for tecken in display_siffra_l]\n",
    "        aktiva_segment.sort()\n",
    "\n",
    "        siffror += str(segment_per_siffra[tuple(aktiva_segment)])\n",
    "\n",
    "    total_summa += int(siffror)\n",
    "\n",
    "print(f\"Den totala summan av talen på displayerna är {total_summa}\")    "
   ]
  },
  {
   "cell_type": "markdown",
   "metadata": {},
   "source": [
    "## Lucka 9\n",
    "### Del 1\n"
   ]
  },
  {
   "cell_type": "code",
   "execution_count": 24,
   "metadata": {},
   "outputs": [],
   "source": [
    "sökväg = \"files/exempel 9.txt\"\n",
    "#sökväg = \"files/input 9.txt\"\n",
    "\n",
    "text = läsin_fil(sökväg)\n",
    "\n",
    "karta = np.array([[ int(siffra) for siffra in rad.strip()] for rad in text])\n",
    "karta_inramad = np.ones(np.array(karta.shape)+2, np.int16) *10\n",
    "karta_inramad[1:-1, 1:-1] = karta"
   ]
  },
  {
   "cell_type": "code",
   "execution_count": 25,
   "metadata": {},
   "outputs": [],
   "source": [
    "# Hitta den här på nätet :-) Ändrade dock från <= til <\n",
    "def local_minima(array2d):\n",
    "    return ((array2d < np.roll(array2d,  1, 0)) &\n",
    "            (array2d < np.roll(array2d, -1, 0)) &\n",
    "            (array2d < np.roll(array2d,  1, 1)) &\n",
    "            (array2d < np.roll(array2d, -1, 1)))\n"
   ]
  },
  {
   "cell_type": "code",
   "execution_count": 26,
   "metadata": {},
   "outputs": [
    {
     "name": "stdout",
     "output_type": "stream",
     "text": [
      "Summan av risknivåerna för kartans minpunkter är 15\n"
     ]
    }
   ],
   "source": [
    "bool_array = local_minima(karta_inramad)[1:-1, 1:-1]      \n",
    "svar = (bool_array * (karta + 1)).sum()\n",
    "print(f\"Summan av risknivåerna för kartans minpunkter är {svar}\" )"
   ]
  },
  {
   "cell_type": "markdown",
   "metadata": {},
   "source": [
    "### Del 2"
   ]
  },
  {
   "cell_type": "code",
   "execution_count": 27,
   "metadata": {},
   "outputs": [
    {
     "name": "stdout",
     "output_type": "stream",
     "text": [
      "Produkten av arean av de tre största bassängerna är 1134.\n"
     ]
    }
   ],
   "source": [
    "minpunkter = np.where(bool_array)\n",
    "bassängstorlekar = []\n",
    "\n",
    "for rad, kol in zip(minpunkter[0]+1, minpunkter[1]+1):\n",
    "\n",
    "    bassäng = np.array(np.zeros(karta_inramad.shape), np.bool8)\n",
    "\n",
    "    bassäng[rad, kol] = True\n",
    "\n",
    "    punkter_att_kontrollera = [(rad, kol)] \n",
    "\n",
    "    while punkter_att_kontrollera:\n",
    "        (rad, kol) = punkter_att_kontrollera.pop()\n",
    "        \n",
    "        närliggande_punkter = [(rad - 1, kol), (rad + 1, kol), (rad, kol - 1), (rad, kol + 1)]\n",
    "        for närliggande_punkt in närliggande_punkter:\n",
    "\n",
    "            if not bassäng[närliggande_punkt] and karta_inramad[närliggande_punkt] < 9:\n",
    "                bassäng[närliggande_punkt] = True\n",
    "                punkter_att_kontrollera.append(närliggande_punkt)\n",
    "\n",
    "    bassängstorlekar.append(bassäng.sum())\n",
    "\n",
    "bassängstorlekar.sort()\n",
    "svar = np.array(bassängstorlekar[-3:]).prod()\n",
    "\n",
    "print(f\"Produkten av arean av de tre största bassängerna är {svar}.\")"
   ]
  },
  {
   "cell_type": "markdown",
   "metadata": {},
   "source": [
    "## Lucka 10\n",
    "### Del 1\n"
   ]
  },
  {
   "cell_type": "code",
   "execution_count": 28,
   "metadata": {},
   "outputs": [
    {
     "data": {
      "text/plain": [
       "['[({(<(())[]>[[{[]{<()<>>\\n',\n",
       " '[(()[<>])]({[<{<<[]>>(\\n',\n",
       " '{([(<{}[<>[]}>{[]{[(<()>\\n',\n",
       " '(((({<>}<{<{<>}{[]{[]{}\\n',\n",
       " '[[<[([]))<([[{}[[()]]]\\n',\n",
       " '[{[{({}]{}}([{[{{{}}([]\\n',\n",
       " '{<[[]]>}<{[{[{[]{()[[[]\\n',\n",
       " '[<(<(<(<{}))><([]([]()\\n',\n",
       " '<{([([[(<>()){}]>(<<{{\\n',\n",
       " '<{([{{}}[<[[[<>{}]]]>[]]\\n']"
      ]
     },
     "execution_count": 28,
     "metadata": {},
     "output_type": "execute_result"
    }
   ],
   "source": [
    "# Inläsning av indata\n",
    "sökväg = \"files/exempel 10.txt\"\n",
    "#sökväg = \"files/input 10.txt\"\n",
    "\n",
    "text = läsin_fil(sökväg) \n",
    "\n",
    "# Nödvändiga data gemensammt del 1 och del 2\n",
    "möjliga_startparenteser = ('(', '[', '{', '<')\n",
    "möjliga_slutparenteser = {')' : '(', ']' : '[', '}' : '{', '>' : '<'}\n",
    "\n",
    "text\n"
   ]
  },
  {
   "cell_type": "code",
   "execution_count": 29,
   "metadata": {},
   "outputs": [
    {
     "name": "stdout",
     "output_type": "stream",
     "text": [
      "Den totala poängen för ogiltiga tecken är 26397\n"
     ]
    }
   ],
   "source": [
    "# Nödvändig data\n",
    "poäng_felaktiga_parenteser = {')' : 3, ']' : 57, '}' : 1197, '>' : 25137}\n",
    "\n",
    "# Loopa igenom varje rad och tecken i indatan\n",
    "totalpoäng = 0\n",
    "for rad in text:\n",
    "    startparenteser = []\n",
    "    for tecken in rad.strip():\n",
    "        \n",
    "        # Kontrollera vilken typ av tecken \n",
    "        if tecken in möjliga_startparenteser:                       # tecken är en startparentes\n",
    "            startparenteser.append(tecken)                          # Spara öppningsparentes i lista\n",
    "        elif möjliga_slutparenteser[tecken] == startparenteser[-1]: # tecken är matchar senaste startparentes\n",
    "            startparenteser.pop()                                   # Avlägsna matchad parentes ur lista\n",
    "        else:                      \n",
    "            totalpoäng += poäng_felaktiga_parenteser[tecken]        # Addera poäng för upptäckt felaktighet\n",
    "            break                                                   # Byt till nästa rad \n",
    "\n",
    "print(f\"Den totala poängen för ogiltiga tecken är {totalpoäng}\")        "
   ]
  },
  {
   "cell_type": "markdown",
   "metadata": {},
   "source": [
    "### Del 2"
   ]
  },
  {
   "cell_type": "code",
   "execution_count": 30,
   "metadata": {},
   "outputs": [
    {
     "name": "stdout",
     "output_type": "stream",
     "text": [
      "Den mittersta poängen i autofyll-tävlingen är 288957\n"
     ]
    }
   ],
   "source": [
    "# Nödvändig data\n",
    "poäng_saknade_parenteser = {'(' : 1, '[' : 2, '{' : 3, '<' : 4}\n",
    "\n",
    "# Loopa igenom varje rad i indata\n",
    "poäng_per_godkänd_rad = []\n",
    "for rad in text:\n",
    "    \n",
    "    # Loopa igenom alla tecken i aktuell rad\n",
    "    startparenteser = []\n",
    "    for tecken in rad:\n",
    "        \n",
    "        # Kontrollera vilken typ av tecken \n",
    "        if tecken in möjliga_startparenteser:                           # tecken är en startparentes\n",
    "            startparenteser.append(tecken)                              # Spara öppningsparentes i lista\n",
    "        elif tecken in möjliga_slutparenteser:                          # Kontrollera om tecken är en slutparentes\n",
    "            if möjliga_slutparenteser[tecken] == startparenteser[-1]:   # tecken är matchar senaste startparentes\n",
    "                startparenteser.pop()                                   # Avlägsna matchad parentes ur lista\n",
    "            else:                                                       # Annars är tecken == '\\n' -> ny rad    \n",
    "                break                                                   # Byt till nästa rad                                                \n",
    "\n",
    "    # Beräkna poäng om giltig rad\n",
    "    if tecken == '\\n': \n",
    "        poäng = 0\n",
    "        for p in reversed(startparenteser): # Tilldela en slutparentes till alla öppna parenteser i rätt ordning\n",
    "            poäng *= 5\n",
    "            poäng += poäng_saknade_parenteser[p]\n",
    "\n",
    "        poäng_per_godkänd_rad.append(poäng)\n",
    "\n",
    "# Hitta värdet som ligger i mitten\n",
    "poäng_per_godkänd_rad.sort()\n",
    "mitten_index = len(poäng_per_godkänd_rad)// 2\n",
    "\n",
    "print(f\"Den mittersta poängen i autofyll-tävlingen är {poäng_per_godkänd_rad[mitten_index]}\")  "
   ]
  },
  {
   "cell_type": "markdown",
   "metadata": {},
   "source": [
    "## Lucka 11\n",
    "### Del 1\n"
   ]
  },
  {
   "cell_type": "code",
   "execution_count": 31,
   "metadata": {},
   "outputs": [
    {
     "data": {
      "text/plain": [
       "['5483143223\\n',\n",
       " '2745854711\\n',\n",
       " '5264556173\\n',\n",
       " '6141336146\\n',\n",
       " '6357385478\\n',\n",
       " '4167524645\\n',\n",
       " '2176841721\\n',\n",
       " '6882881134\\n',\n",
       " '4846848554\\n',\n",
       " '5283751526\\n']"
      ]
     },
     "execution_count": 31,
     "metadata": {},
     "output_type": "execute_result"
    }
   ],
   "source": [
    "# Inläsning av indata\n",
    "sökväg = \"files/exempel 11.txt\"\n",
    "#sökväg = \"files/input 11.txt\"\n",
    "\n",
    "text = läsin_fil(sökväg) \n",
    "\n",
    "text"
   ]
  },
  {
   "cell_type": "code",
   "execution_count": 32,
   "metadata": {},
   "outputs": [],
   "source": [
    "def dumbo_flash(rad, kol):\n",
    "    \"\"\"Blinkand dumbobläckfisk\n",
    "    Triggar angränsande bläckfiskar.\n",
    "    Ange position i nätverket\"\"\"   \n",
    "    \n",
    "    # Alla omgivande punkter\n",
    "    närliggande_punkter = [(rad - 1, kol), (rad + 1, kol), (rad, kol - 1), (rad, kol + 1), (rad - 1, kol - 1), (rad + 1, kol -1), (rad - 1, kol + 1), (rad + 1, kol + 1)]\n",
    "\n",
    "    for (r, k) in närliggande_punkter:\n",
    "        \n",
    "        # Kontrollera att punkten inte ligger utanför nätverk\n",
    "        if not 0 <= r < dumbo_grid.shape[0] or not 0 <= k < dumbo_grid.shape[1]: \n",
    "            continue\n",
    "\n",
    "        # Öka energinivå i punkten \n",
    "        dumbo_grid[r, k] += 1 \n",
    "\n",
    "        # Kontrollera om punkten blinkar\n",
    "        if dumbo_grid[r, k] == kritisk_energinivå + 1:   # Om högre -> har redan blinkat\n",
    "            dumbo_flash(r, k)\n"
   ]
  },
  {
   "cell_type": "code",
   "execution_count": 33,
   "metadata": {},
   "outputs": [
    {
     "name": "stdout",
     "output_type": "stream",
     "text": [
      "Utgångsläge\n",
      " [[5 4 8 3 1 4 3 2 2 3]\n",
      " [2 7 4 5 8 5 4 7 1 1]\n",
      " [5 2 6 4 5 5 6 1 7 3]\n",
      " [6 1 4 1 3 3 6 1 4 6]\n",
      " [6 3 5 7 3 8 5 4 7 8]\n",
      " [4 1 6 7 5 2 4 6 4 5]\n",
      " [2 1 7 6 8 4 1 7 2 1]\n",
      " [6 8 8 2 8 8 1 1 3 4]\n",
      " [4 8 4 6 8 4 8 5 5 4]\n",
      " [5 2 8 3 7 5 1 5 2 6]]\n",
      "Det totala antalet ljusblinkningar efter 100 steg är 1656.\n"
     ]
    }
   ],
   "source": [
    "# Konstanter\n",
    "antal_tidssteg = 100\n",
    "kritisk_energinivå =9\n",
    "\n",
    "# Skapa grid med bläckfiskar\n",
    "dumbo_grid = np.array([[ int(siffra) for siffra in rad.strip()] for rad in text])\n",
    "\n",
    "print(\"Utgångsläge\\n\", dumbo_grid)\n",
    "\n",
    "totalt_antal_ljusblinkningar = 0\n",
    "\n",
    "\n",
    "# Loopa genom alla tidssteg\n",
    "for tids_steg in range(antal_tidssteg):\n",
    "    \n",
    "    # Öka engerginivån hos alla bläckfiskar   \n",
    "    dumbo_grid += 1\n",
    "\n",
    "    # Blinka lilla bläckfisk där...\n",
    "    rader, kollonner = np.where(dumbo_grid > kritisk_energinivå)\n",
    "    for rad, kol in zip(rader, kollonner):\n",
    "        dumbo_flash(rad, kol)\n",
    "\n",
    "    # Nollställ energinivån hos alla bläckfiskar som blinkat\n",
    "    dumbo_grid[dumbo_grid > kritisk_energinivå] = 0\n",
    "\n",
    "    # Räkna poäng\n",
    "    totalt_antal_ljusblinkningar += dumbo_grid.size - np.count_nonzero(dumbo_grid)\n",
    "\n",
    "print(f\"Det totala antalet ljusblinkningar efter {antal_tidssteg} steg är {totalt_antal_ljusblinkningar}.\")"
   ]
  },
  {
   "cell_type": "markdown",
   "metadata": {},
   "source": [
    "### Del 2"
   ]
  },
  {
   "cell_type": "code",
   "execution_count": 34,
   "metadata": {},
   "outputs": [
    {
     "name": "stdout",
     "output_type": "stream",
     "text": [
      "Utgångsläge\n",
      " [[5 4 8 3 1 4 3 2 2 3]\n",
      " [2 7 4 5 8 5 4 7 1 1]\n",
      " [5 2 6 4 5 5 6 1 7 3]\n",
      " [6 1 4 1 3 3 6 1 4 6]\n",
      " [6 3 5 7 3 8 5 4 7 8]\n",
      " [4 1 6 7 5 2 4 6 4 5]\n",
      " [2 1 7 6 8 4 1 7 2 1]\n",
      " [6 8 8 2 8 8 1 1 3 4]\n",
      " [4 8 4 6 8 4 8 5 5 4]\n",
      " [5 2 8 3 7 5 1 5 2 6]]\n",
      "\n",
      "Efter sista steget\n",
      " [[0 0 0 0 0 0 0 0 0 0]\n",
      " [0 0 0 0 0 0 0 0 0 0]\n",
      " [0 0 0 0 0 0 0 0 0 0]\n",
      " [0 0 0 0 0 0 0 0 0 0]\n",
      " [0 0 0 0 0 0 0 0 0 0]\n",
      " [0 0 0 0 0 0 0 0 0 0]\n",
      " [0 0 0 0 0 0 0 0 0 0]\n",
      " [0 0 0 0 0 0 0 0 0 0]\n",
      " [0 0 0 0 0 0 0 0 0 0]\n",
      " [0 0 0 0 0 0 0 0 0 0]]\n",
      "\n",
      "Det totala antalet steg tills alla bläckfiskar blinkar synkront är 195.\n"
     ]
    }
   ],
   "source": [
    "# Konstanter\n",
    "kritisk_energinivå =9\n",
    "\n",
    "# Skapa grid med bläckfiskar\n",
    "dumbo_grid = np.array([[ int(siffra) for siffra in rad.strip()] for rad in text])\n",
    "\n",
    "print(\"Utgångsläge\\n\", dumbo_grid)\n",
    "\n",
    "# Loopa genom tills alla bläckfiskar blinkar synkront\n",
    "antal_steg = 0\n",
    "while dumbo_grid.sum() != 0:\n",
    "    antal_steg += 1\n",
    "\n",
    "    # Öka engerginivån hos alla bläckfiskar   \n",
    "    dumbo_grid += 1\n",
    "\n",
    "    # Blinka lilla bläckfisk där...\n",
    "    rader, kollonner = np.where(dumbo_grid > kritisk_energinivå)\n",
    "    for rad, kol in zip(rader, kollonner):\n",
    "        dumbo_flash(rad, kol)\n",
    "\n",
    "    # Nollställ energinivån hos alla bläckfiskar som blinkat\n",
    "    dumbo_grid[dumbo_grid > kritisk_energinivå] = 0\n",
    "   \n",
    "print(\"\\nEfter sista steget\\n\", dumbo_grid)\n",
    "print(f\"\\nDet totala antalet steg tills alla bläckfiskar blinkar synkront är {antal_steg}.\")"
   ]
  },
  {
   "cell_type": "markdown",
   "metadata": {},
   "source": [
    "## Lucka 12\n",
    "### Del 1\n"
   ]
  },
  {
   "cell_type": "code",
   "execution_count": 35,
   "metadata": {},
   "outputs": [
    {
     "data": {
      "text/plain": [
       "NodeView(('start', 'A', 'b', 'c', 'd', 'end'))"
      ]
     },
     "execution_count": 35,
     "metadata": {},
     "output_type": "execute_result"
    }
   ],
   "source": [
    "import networkx as nx\n",
    "\n",
    "# Inläsning av indata\n",
    "sökväg = \"files/exempel 12 0.txt\"\n",
    "#sökväg = \"files/exempel 12 1.txt\"\n",
    "#sökväg = \"files/exempel 12 2.txt\"\n",
    "#sökväg = \"files/input 12.txt\"\n",
    "\n",
    "text = läsin_fil(sökväg) \n",
    "\n",
    "# Skapa grafobjekt\n",
    "graf_grottsystem = nx.Graph()\n",
    "\n",
    "# Skapa kanter\n",
    "[graf_grottsystem.add_edge(*tuple(kant.strip().split('-'))) for kant in text]\n",
    "\n",
    "graf_grottsystem.nodes"
   ]
  },
  {
   "cell_type": "code",
   "execution_count": 36,
   "metadata": {},
   "outputs": [],
   "source": [
    "def kontrollera_nästa_nod(nod, väg):\n",
    "\n",
    "    # Kontrollera om liten grotta och om den redan är besökt. Avsluta i så fall.\n",
    "    if nod.islower() and (nod in väg):\n",
    "        return\n",
    "\n",
    "    # Lägg till aktuell grott till vägen.\n",
    "    väg = väg + [nod]\n",
    "\n",
    "    # Om aktuell grotta är utgången spara vägen som godkänd väg och avsluta\n",
    "    if nod == \"end\":\n",
    "        godkända_vägar.append(väg)\n",
    "        return\n",
    "\n",
    "    # Hitta alla angränsande grottor och kontrollera dessa.\n",
    "    närliggande_grottor = nx.neighbors(graf_grottsystem, nod)\n",
    "    for grotta in närliggande_grottor:\n",
    "        kontrollera_nästa_nod(grotta, väg)\n",
    "\n"
   ]
  },
  {
   "cell_type": "code",
   "execution_count": 37,
   "metadata": {},
   "outputs": [
    {
     "name": "stdout",
     "output_type": "stream",
     "text": [
      "Antalet godkända vägar ut ur grottsystemet är 10.\n"
     ]
    }
   ],
   "source": [
    "# Sätt startvärden\n",
    "startposition = \"start\"\n",
    "godkända_vägar = []\n",
    "väg_ = []\n",
    "\n",
    "# Kontrollera första grottan\n",
    "kontrollera_nästa_nod(startposition, väg_)\n",
    "\n",
    "# Räkna alla godkända vägar från start till utgången\n",
    "antal_godkända_vägar = len(godkända_vägar)\n",
    "print(f\"Antalet godkända vägar ut ur grottsystemet är {antal_godkända_vägar}.\")"
   ]
  },
  {
   "cell_type": "markdown",
   "metadata": {},
   "source": [
    "### Del 2"
   ]
  },
  {
   "cell_type": "code",
   "execution_count": 38,
   "metadata": {},
   "outputs": [],
   "source": [
    "def väg_dubletter(väg):\n",
    "    \"\"\"Kontrollerar om det finns dubletter av små grottor i angiven väg.\"\"\"\n",
    "    besökta_små_grottor = []\n",
    "    [besökta_små_grottor.append(nod) if nod.islower() else None for nod in väg]\n",
    "    \n",
    "    return sorted(list(set(besökta_små_grottor))) != sorted(besökta_små_grottor)\n",
    "\n",
    "\n",
    "def kontrollera_nästa_nod_2(nod, väg):\n",
    "    \"\"\"Konrollerar om nästa nod är godkänd och triggar följande noder om så är fallet. Annars avslutas funktionen.\"\"\"\n",
    "    \n",
    "    # Kontrollera om liten grotta och om den redan är besökt.\n",
    "    if nod.islower() and (nod in väg):\n",
    "        \n",
    "        # Kontrollera om det finns någon liten grotta som besökts två ggr eller aktuell grotta är startpunkten. I så fall återgå.\n",
    "        if väg_dubletter(väg) or nod == \"start\": \n",
    "            return\n",
    "    \n",
    "    # Lägg till aktuell grott till vägen.\n",
    "    väg = väg + [nod]\n",
    "\n",
    "    # Om aktuell grotta är utgången spara vägen som godkänd väg och avsluta\n",
    "    if nod == \"end\":\n",
    "        godkända_vägar.append(väg)\n",
    "        return\n",
    "\n",
    "    # Hitta alla angränsande grottor och kontrollera dessa.\n",
    "    närliggande_grottor = nx.neighbors(graf_grottsystem, nod)\n",
    "    for grotta in närliggande_grottor:\n",
    "        kontrollera_nästa_nod_2(grotta, väg)\n"
   ]
  },
  {
   "cell_type": "code",
   "execution_count": 39,
   "metadata": {},
   "outputs": [
    {
     "name": "stdout",
     "output_type": "stream",
     "text": [
      "Antalet godkända vägar ut ur grottsystemet är 36.\n"
     ]
    }
   ],
   "source": [
    "# Sätt startvärden\n",
    "startposition = \"start\"\n",
    "godkända_vägar = []\n",
    "väg_ = []\n",
    "\n",
    "\n",
    "# Kontrollera första grottan\n",
    "kontrollera_nästa_nod_2(startposition, väg_)\n",
    "\n",
    "\n",
    "# Räkna alla godkända vägar från start till utgången\n",
    "antal_godkända_vägar = len(godkända_vägar)\n",
    "print(f\"Antalet godkända vägar ut ur grottsystemet är {antal_godkända_vägar}.\")"
   ]
  },
  {
   "cell_type": "markdown",
   "metadata": {},
   "source": [
    "## Lucka 13\n",
    "### Del 1\n"
   ]
  },
  {
   "cell_type": "code",
   "execution_count": 40,
   "metadata": {},
   "outputs": [],
   "source": [
    "def vik_ark(vikning):\n",
    "    \"\"\"Viker papersarket en gång på den position den axel som anges i vikning.\"\"\"\n",
    "    \n",
    "    global punkter_på_arket\n",
    "    axel, pos = vikning\n",
    "    m, n = punkter_på_arket.shape\n",
    "    \n",
    "    # Kontrollera dimension och slå samman rader/kolonner utifrån och in. \n",
    "    if axel == 'x':\n",
    "        for i in range(pos):\n",
    "            punkter_på_arket[:, i] = punkter_på_arket[:, i] | punkter_på_arket[:, n-i-1] \n",
    "\n",
    "        # Spara bara den aktuella halvan av arket.\n",
    "        punkter_på_arket = punkter_på_arket[:, 0 : pos]\n",
    "\n",
    "    elif axel == 'y':\n",
    "        for i in range(pos):\n",
    "            punkter_på_arket[i, :] = punkter_på_arket[i, :] | punkter_på_arket[m-i-1, :] \n",
    "        \n",
    "        # Spara bara den aktuella halvan av arket.\n",
    "        punkter_på_arket = punkter_på_arket[0 : pos, :]\n",
    "    "
   ]
  },
  {
   "cell_type": "code",
   "execution_count": 41,
   "metadata": {},
   "outputs": [],
   "source": [
    "# Inläsning av indata\n",
    "sökväg = \"files/exempel 13.txt\"\n",
    "sökväg = \"files/input 13.txt\"\n",
    "\n",
    "text = läsin_fil(sökväg) \n",
    "\n",
    "punkternas_koordinater =[]\n",
    "vikningar = []\n",
    "for rad in text:\n",
    "    if rad[0] == 'f':\n",
    "        vikningar.append((rad[11], int(rad[13:])))\n",
    "\n",
    "    elif rad[0] != '\\n':\n",
    "        punkternas_koordinater.append(list(eval(rad)))\n",
    "  \n",
    "# Hitta största värden på rad och kol\n",
    "max_kol, max_rad = max([p[0] for p in punkternas_koordinater]), max([p[1] for p in punkternas_koordinater])\n",
    "\n",
    "# Skapa arketsarket\n",
    "punkter_på_arket = np.array(np.zeros((max_rad + 1, max_kol + 1)), bool)\n",
    "\n",
    "# Sätt ut punktern\n",
    "for kol, rad in punkternas_koordinater: \n",
    "    punkter_på_arket[rad, kol] = True\n",
    "\n",
    "punkter_på_arket_bak = punkter_på_arket.copy()"
   ]
  },
  {
   "cell_type": "code",
   "execution_count": 42,
   "metadata": {},
   "outputs": [
    {
     "name": "stdout",
     "output_type": "stream",
     "text": [
      "Antalet punkter efter en vikninga av pappersarket är 678 styken.\n"
     ]
    }
   ],
   "source": [
    "punkter_på_arket = punkter_på_arket_bak.copy()\n",
    "\n",
    "# Vi arket en gång\n",
    "vik_ark(vikningar[0])\n",
    "\n",
    "print(f\"Antalet punkter efter en vikninga av pappersarket är {punkter_på_arket.sum()} styken.\")"
   ]
  },
  {
   "cell_type": "markdown",
   "metadata": {},
   "source": [
    "### Del 2"
   ]
  },
  {
   "cell_type": "code",
   "execution_count": 43,
   "metadata": {},
   "outputs": [
    {
     "name": "stdout",
     "output_type": "stream",
     "text": [
      "Koden för att starta värmekameran är:\n",
      "\n",
      "████████████      ██████      ████████████   ███      ███   ███            ███      ███   ████████████   ████████████   \n",
      "███            ███      ███   ███            ███      ███   ███            ███      ███            ███   ███            \n",
      "█████████      ███            █████████      ████████████   ███            ████████████         ███      █████████      \n",
      "███            ███            ███            ███      ███   ███            ███      ███      ███         ███            \n",
      "███            ███      ███   ███            ███      ███   ███            ███      ███   ███            ███            \n",
      "████████████      ██████      ███            ███      ███   ████████████   ███      ███   ████████████   ███            \n"
     ]
    }
   ],
   "source": [
    "punkter_på_arket = punkter_på_arket_bak.copy()\n",
    "\n",
    "# Vik arket enligt instruktionerna\n",
    "for vikning in vikningar:\n",
    "    vik_ark(vikning)\n",
    "    \n",
    "# Skriv ut svaret\n",
    "print(\"Koden för att starta värmekameran är:\\n\")\n",
    "for rad_i in punkter_på_arket:\n",
    "    for pos in rad_i:\n",
    "        print(('███'if pos else '   '), end=\"\")\n",
    "    print(\"\")"
   ]
  },
  {
   "cell_type": "markdown",
   "metadata": {},
   "source": [
    "## Lucka 14\n",
    "### Del 1\n"
   ]
  },
  {
   "cell_type": "code",
   "execution_count": 44,
   "metadata": {},
   "outputs": [],
   "source": [
    "# Inläsning av indata\n",
    "sökväg = \"files/exempel 14.txt\"\n",
    "#sökväg = \"files/input 14.txt\"\n",
    "\n",
    "text = läsin_fil(sökväg)\n",
    "\n",
    "# Startvärde för polymer\n",
    "polymer_start= text[0].strip()\n"
   ]
  },
  {
   "cell_type": "code",
   "execution_count": 45,
   "metadata": {},
   "outputs": [
    {
     "name": "stdout",
     "output_type": "stream",
     "text": [
      "Skillnaden mellan antalet av det vanligast förekommande och minst vanliga ämnet är 1588.\n"
     ]
    }
   ],
   "source": [
    "antal_iterationer = 10\n",
    "polymer = polymer_start \n",
    "\n",
    "# Par för insättning av nya monomerer\n",
    "monomerpar_insätt_ämne = {p[0:2] : p[6] for p in text[2:]}\n",
    "\n",
    "for i in range(antal_iterationer):\n",
    "    #print(\"Iteration:\", i, \"Längden polymer:\", len(polymer))\n",
    "   \n",
    "    # Sätt in ny monomer mellan varje tidigare par\n",
    "    polymer_tmp = polymer[0]\n",
    "    for m1,m2 in zip(polymer[:-1], polymer[1:]):\n",
    "        polymer_tmp +=monomerpar_insätt_ämne[m1+m2] + m2\n",
    "    polymer = polymer_tmp    \n",
    "\n",
    "# Beräkna förekomst och svar\n",
    "ämne_förekomst = {m : polymer.count(m)  for m in set(monomerpar_insätt_ämne.values())}\n",
    "svar = max(ämne_förekomst.values()) - min(ämne_förekomst.values())\n",
    "\n",
    "print(f\"Skillnaden mellan antalet av det vanligast förekommande och minst vanliga ämnet är {svar}.\")"
   ]
  },
  {
   "cell_type": "markdown",
   "metadata": {},
   "source": [
    "### Del 2"
   ]
  },
  {
   "cell_type": "code",
   "execution_count": 46,
   "metadata": {},
   "outputs": [
    {
     "name": "stdout",
     "output_type": "stream",
     "text": [
      "Skillnaden mellan antalet av det vanligast förekommande och minst vanliga ämnet är 2188189693529.\n"
     ]
    }
   ],
   "source": [
    "antal_iterationer = 40\n",
    "polymer = polymer_start \n",
    "\n",
    "# Par för insättning av nya monomerer\n",
    "monomerpar_nya_par = {p[0:2] : [p[0] + p[6], p[6] + p[1]] for p in text[2:]}\n",
    "\n",
    "# Räkna antalet par\n",
    "monomerpar_antal = {p : 0 for p in monomerpar_nya_par.keys()}\n",
    "for m1,m2 in zip(polymer[:-1], polymer[1:]):\n",
    "    monomerpar_antal[m1+m2] += 1\n",
    "\n",
    "for i in range(antal_iterationer):\n",
    "\n",
    "    # Lägg till nyaskapade par och ta bort de gamla delade\n",
    "    monomerpar_antal_tmp = monomerpar_antal.copy()\n",
    "    for par in monomerpar_antal:\n",
    "        monomerpar_antal_tmp[monomerpar_nya_par[par][0]] += monomerpar_antal[par] \n",
    "        monomerpar_antal_tmp[monomerpar_nya_par[par][1]] += monomerpar_antal[par] \n",
    "        monomerpar_antal_tmp[par] -= monomerpar_antal[par] \n",
    "    monomerpar_antal = monomerpar_antal_tmp.copy()\n",
    "   \n",
    "# Räkna förekomsten av respektive ämne\n",
    "for m in  set(monomerpar_insätt_ämne.values()):\n",
    "    ämne_förekomst[m] = 0\n",
    "    for k in monomerpar_antal.keys():\n",
    "        if k[0] == m:   # Räkna första ämnet i varje par\n",
    "            ämne_förekomst[m] += monomerpar_antal[k]\n",
    "ämne_förekomst[polymer_start[-1]] += 1 # Lägg till sista ämnet som ej är start på något par\n",
    "\n",
    "# Beräkna svaret\n",
    "svar = max(ämne_förekomst.values())-min(ämne_förekomst.values())\n",
    "print(f\"Skillnaden mellan antalet av det vanligast förekommande och minst vanliga ämnet är {svar}.\")"
   ]
  },
  {
   "cell_type": "markdown",
   "metadata": {},
   "source": [
    "## Lucka 15\n",
    "### Del 1\n"
   ]
  },
  {
   "cell_type": "code",
   "execution_count": 47,
   "metadata": {},
   "outputs": [],
   "source": [
    "# Inläsning av indata\n",
    "sökväg = \"files/exempel 15.txt\"\n",
    "#sökväg = \"files/input 15.txt\"\n",
    "\n",
    "text = läsin_fil(sökväg)\n",
    "text = [rad.strip() for rad in text]\n",
    "\n",
    "text_bak = text.copy()"
   ]
  },
  {
   "cell_type": "code",
   "execution_count": 52,
   "metadata": {},
   "outputs": [
    {
     "name": "stdout",
     "output_type": "stream",
     "text": [
      "Den sammanlagda risknivån för den säkraste vägen genom grottan 40.\n"
     ]
    }
   ],
   "source": [
    "# Kör för att lösa del 2\n",
    "del_2()\n",
    "\n",
    "# Skapa grafobjekt\n",
    "graf_grotta = nx.Graph()\n",
    "\n",
    "# Skapa kanter\n",
    "m = len(text)\n",
    "n = len(text[0]) \n",
    "for i, rad in enumerate(text):\n",
    "    for j, kol in enumerate(rad):\n",
    "        nod = i * n + j\n",
    "        if j < n -1:\n",
    "            graf_grotta.add_edge(*((nod, nod+1))) \n",
    "        \n",
    "        if i < m - 1:\n",
    "            graf_grotta.add_edge(*((nod, nod+n)))\n",
    "\n",
    "        graf_grotta.add_node(nod, risk=int(kol))\n",
    "\n",
    "# Lambdafunktion för att beräkna viktning för kant\n",
    "risk_kant =lambda a, b, c : graf_grotta.nodes[b]['risk']\n",
    "\n",
    "# Hitta säkraste vägen genom grottan\n",
    "säkraste_vägen = nx.shortest_path(graf_grotta, source=0, target=graf_grotta.number_of_nodes() - 1, weight=risk_kant, method='dijkstra')\n",
    "\n",
    "# Beräkna svar\n",
    "svar = sum([graf_grotta.nodes[nod]['risk'] for nod in säkraste_vägen[1:]])\n",
    "print(f\"Den sammanlagda risknivån för den säkraste vägen genom grottan {svar}.\")"
   ]
  },
  {
   "cell_type": "markdown",
   "metadata": {},
   "source": [
    "### Del 2"
   ]
  },
  {
   "cell_type": "code",
   "execution_count": 51,
   "metadata": {},
   "outputs": [],
   "source": [
    "def del_2():\n",
    "        \n",
    "    text = text_bak.copy()\n",
    "    text2 = text.copy()\n",
    "    antal_ggr_större = 5\n",
    "\n",
    "    # Nytt värde för alla tecken\n",
    "    byten = (('9', 'x'), ('8', '9'), ('7', '8'), ('6', '7'), ('5', '6'), ('4', '5'), ('3', '4'), ('2', '3'), ('1', '2'), ('x', '1'), )\n",
    "\n",
    "    for i in range(antal_ggr_större + 2 * antal_ggr_större - 1):\n",
    "\n",
    "        # Öka värdena med ett i rutan    \n",
    "        for j, rad in enumerate(text2):\n",
    "            for från, till in byten:\n",
    "                rad = rad.replace(från, till) \n",
    "            text2[j] = rad\n",
    "        \n",
    "        \n",
    "      \n",
    "        antal_rader_text2 = len(text2)\n",
    "\n",
    "        # Utöka grottan en ruta i sidled\n",
    "        for del_av_grotta in range(0, len(text), antal_rader_text2):\n",
    "            if len(text[del_av_grotta]) < antal_ggr_större * len(text2[0]):\n",
    "                konkatinerade_rader = [rad1 +  rad2 for rad1, rad2 in zip(text[del_av_grotta: del_av_grotta + antal_rader_text2], text2)]\n",
    "                text[del_av_grotta: del_av_grotta + antal_rader_text2] = konkatinerade_rader\n",
    "       \n",
    "        # Kontollera att inte utanför grottan annars lägg till en ruta neråt\n",
    "        if i + 1 < antal_ggr_större:\n",
    "            text += text2\n",
    "        \n",
    "   "
   ]
  },
  {
   "cell_type": "markdown",
   "metadata": {},
   "source": [
    "## Lucka 16\n",
    "### Del 1 & 2\n"
   ]
  },
  {
   "cell_type": "code",
   "execution_count": 53,
   "metadata": {},
   "outputs": [],
   "source": [
    "def läsin_paket():\n",
    "    global index\n",
    "    alla_tal_paket = []\n",
    "\n",
    "    # Läs av version och index\n",
    "    version = int(binär_sträng[index : index + 3], 2)\n",
    "    index += 3 \n",
    "    alla_versioner.append(version)\n",
    "    typ = int(binär_sträng[index : index + 3], 2) \n",
    "    index += 3 \n",
    "\n",
    "    # Kontrollera om paketet innehåller ett tal eller en operation\n",
    "    if typ == 4: # Tal\n",
    "        \n",
    "        # Läs in 5 bitar i taget tills talet är klart\n",
    "        tal = \"\"\n",
    "        while True: # Varför finns det inte do until-loopar i Python? 🙄\n",
    "            tal += binär_sträng[index + 1 : index + 5]\n",
    "            if binär_sträng[index] == '0':\n",
    "                index += 5 \n",
    "                break\n",
    "            index += 5 \n",
    "\n",
    "        # Beräkna och returnera talet i paketet\n",
    "        return int(tal, 2)\n",
    "\n",
    "    else: # Operation\n",
    "        # Kontrollera vilken typ av längdinformation som används \n",
    "        if binär_sträng[index] == '0': # 15 bitar\n",
    "            index += 1 \n",
    "\n",
    "            #Beräkna antal bitar subpaketen upptar\n",
    "            antal_tecken_subpaket = int(binär_sträng[index : index + 15], 2)      \n",
    "            index += 15 \n",
    "      \n",
    "            # Läs in alla subpaket\n",
    "            index_slut_subpaket = index + antal_tecken_subpaket\n",
    "            while index < index_slut_subpaket:\n",
    "                alla_tal_paket.append(läsin_paket()) \n",
    " \n",
    "        elif binär_sträng[index] == '1': # 11 bitar\n",
    "            index += 1 \n",
    "           \n",
    "            #Beräkna antal subpaketen som ingår i paketet\n",
    "            antal_subpaket = int(binär_sträng[index : index + 11], 2)\n",
    "            index += 11\n",
    "            \n",
    "            # Läs in alla subpaket\n",
    "            for i in range(antal_subpaket):\n",
    "                alla_tal_paket.append(läsin_paket())\n",
    "\n",
    "        # Kontrollera vilken operation som ska utföras och returnera resultat\n",
    "        if typ == 0: # Summa\n",
    "            return sum(alla_tal_paket)\n",
    "        elif typ == 1: # produkt\n",
    "            return math.prod(alla_tal_paket)\n",
    "        elif typ == 2: # Minimum\n",
    "            return min(alla_tal_paket)\n",
    "        elif typ == 3: # Maximum\n",
    "            return max(alla_tal_paket)\n",
    "        elif typ == 5: # Större än\n",
    "            return int(alla_tal_paket[0] > alla_tal_paket[1])\n",
    "        elif typ == 6: # Mindre än\n",
    "            return int(alla_tal_paket[0] < alla_tal_paket[1])       \n",
    "        elif typ == 7: # Lika med\n",
    "            return int(alla_tal_paket[0] == alla_tal_paket[1])  \n",
    "    "
   ]
  },
  {
   "cell_type": "code",
   "execution_count": 54,
   "metadata": {},
   "outputs": [
    {
     "name": "stdout",
     "output_type": "stream",
     "text": [
      "Del 1. Summan av versionsnumren 1007\n",
      "Del 2. Beräkningen av paketet ger 834151779165\n"
     ]
    }
   ],
   "source": [
    "import math\n",
    "\n",
    "# Inläsning av indata\n",
    "#sökväg = \"files/exempel/exempel 16 1.txt\"\n",
    "#sökväg = \"files/exempel/exempel 16 2.txt\"\n",
    "#sökväg = \"files/exempel/exempel 16 3.txt\"\n",
    "#sökväg = \"files/exempel/exempel 16 4.txt\"\n",
    "#sökväg = \"files/exempel/exempel 16 5.txt\"\n",
    "#sökväg = \"files/exempel/exempel 16 6.txt\"\n",
    "#sökväg = \"files/exempel/exempel 16 7.txt\"\n",
    "#sökväg = \"files/exempel/exempel 16 8.txt\"\n",
    "#sökväg = \"files/exempel/exempel 16 9.txt\"\n",
    "#sökväg = \"files/exempel/exempel 16 10.txt\"\n",
    "#sökväg = \"files/exempel/exempel 16 11.txt\"\n",
    "#sökväg = \"files/exempel/exempel 16 12.txt\"\n",
    "#sökväg = \"files/exempel/exempel 16 13.txt\"\n",
    "#sökväg = \"files/exempel/exempel 16 14.txt\"\n",
    "#sökväg = \"files/exempel/exempel 16 15.txt\"\n",
    "sökväg = \"files/input 16.txt\"\n",
    "\n",
    "text = läsin_fil(sökväg)\n",
    "\n",
    "# Konvertera från hex till binär\n",
    "hexnummer = dict((  (\"0\", \"0000\"),\n",
    "                    (\"1\", \"0001\"),\n",
    "                    (\"2\", \"0010\"),\n",
    "                    (\"3\", \"0011\"),\n",
    "                    (\"4\", \"0100\"),\n",
    "                    (\"5\", \"0101\"),\n",
    "                    (\"6\", \"0110\"),\n",
    "                    (\"7\", \"0111\"),\n",
    "                    (\"8\", \"1000\"),\n",
    "                    (\"9\", \"1001\"),\n",
    "                    (\"A\", \"1010\"),\n",
    "                    (\"B\", \"1011\"),\n",
    "                    (\"C\", \"1100\"),\n",
    "                    (\"D\", \"1101\"),\n",
    "                    (\"E\", \"1110\"),\n",
    "                    (\"F\", \"1111\"),\n",
    "))\n",
    "binär_sträng = \"\".join([hexnummer[t] for t in text[0].strip()])\n",
    "\n",
    "# Begynnelsevärden\n",
    "index = 0\n",
    "alla_versioner = []\n",
    "\n",
    "# Läs in paket\n",
    "svar = läsin_paket()\n",
    "\n",
    "# Svar\n",
    "print(f\"Del 1. Summan av versionsnumren {sum(alla_versioner)}\")\n",
    "print(f\"Del 2. Beräkningen av paketet ger {svar}\")\n"
   ]
  },
  {
   "cell_type": "markdown",
   "metadata": {},
   "source": [
    "## Lucka 17\n",
    "### Del 1 & 2\n"
   ]
  },
  {
   "cell_type": "code",
   "execution_count": 124,
   "metadata": {},
   "outputs": [
    {
     "name": "stdout",
     "output_type": "stream",
     "text": [
      "Del 1. Maximal höjd som kan uppnås är 33670.\n",
      "Del 2. Antal utgångshastigheter som når målet är 4903.\n"
     ]
    }
   ],
   "source": [
    "# Inläsning av indata\n",
    "sökväg = \"files/exempel 17.txt\"\n",
    "sökväg = \"files/input 17.txt\"\n",
    "\n",
    "text = läsin_fil(sökväg)\n",
    "\n",
    "# Läs in målet\n",
    "data = text[0].split()\n",
    "target =  data[2][2:-1].split(\"..\") +  data[3][2:].split(\"..\")\n",
    "target = [ int(t) for t in target]\n",
    "\n",
    "# Minsta och största hastigheter som har möjlighet att nå målet\n",
    "min_x_hastighet = math.ceil(-0.5 + math.sqrt(2 * target[0] + 0.25)) # Lös ut n ur: summa = n(n+1)/2\n",
    "max_x_hastighet = target[1] + 1\n",
    "min_y_hastighet = target[2] - 1\n",
    "max_y_hastighet = -target[2] + 1\n",
    "\n",
    "max_y = []\n",
    "\n",
    "# Prova alla möjliga kombinationer av utgångshastigheter\n",
    "for x_ut_hastighet in range(min_x_hastighet, max_x_hastighet + 1):\n",
    "    for y_ut_hastighet in range(min_y_hastighet,max_y_hastighet):\n",
    "        \n",
    "        # Utgångsvärde variabler\n",
    "        x_hastighet, y_hastighet = x_ut_hastighet, y_ut_hastighet\n",
    "        x_position, y_position = 0, 0\n",
    "        x_väg, y_väg = [], []\n",
    "\n",
    "        # Fortsätta framåt så länge som inte målet är passerat\n",
    "        while x_position <= target[1] and y_position >= target[2]: \n",
    "            # Spara vägen sonden färdas\n",
    "            x_väg.append( x_position)\n",
    "            y_väg.append( y_position)\n",
    "\n",
    "            # Ändra position\n",
    "            x_position += x_hastighet\n",
    "            y_position += y_hastighet\n",
    "\n",
    "            # Ändra hastigheten\n",
    "            x_hastighet -= 1 if x_hastighet > 0 else -1 if x_hastighet > 0 else 0\n",
    "            y_hastighet -= 1\n",
    "\n",
    "        # Kontollera att sonden hamnar i målområdet och spara högst höjden\n",
    "        if target[0] <= x_väg[-1] <= target[1] and target[2] <= y_väg[-1] <= target[3] :\n",
    "            max_y.append(max(y_väg))\n",
    "\n",
    "# Beräkna svar\n",
    "print(f\"Del 1. Maximal höjd som kan uppnås är {max(max_y)}.\")\n",
    "print(f\"Del 2. Antal utgångshastigheter som når målet är {len(max_y)}.\")\n"
   ]
  },
  {
   "cell_type": "markdown",
   "metadata": {},
   "source": [
    "## Lucka 18\n",
    "### Del 1\n"
   ]
  },
  {
   "cell_type": "code",
   "execution_count": 657,
   "metadata": {},
   "outputs": [
    {
     "data": {
      "text/plain": [
       "['[[[0,[5,8]],[[1,7],[9,6]]],[[4,[1,2]],[[1,4],2]]]\\n',\n",
       " '[[[5,[2,8]],4],[5,[[9,9],0]]]\\n',\n",
       " '[6,[[[6,2],[5,6]],[[7,6],[4,7]]]]\\n',\n",
       " '[[[6,[0,7]],[0,9]],[4,[9,[9,0]]]]\\n',\n",
       " '[[[7,[6,4]],[3,[1,3]]],[[[5,5],1],9]]\\n',\n",
       " '[[6,[[7,3],[3,2]]],[[[3,8],[5,7]],4]]\\n',\n",
       " '[[[[5,4],[7,7]],8],[[8,3],8]]\\n',\n",
       " '[[9,3],[[9,9],[6,[4,9]]]]\\n',\n",
       " '[[2,[[7,7],7]],[[5,8],[[9,3],[0,2]]]]\\n',\n",
       " '[[[[5,2],5],[8,[3,7]]],[[5,[7,5]],[4,4]]]\\n']"
      ]
     },
     "execution_count": 657,
     "metadata": {},
     "output_type": "execute_result"
    }
   ],
   "source": [
    "import re\n",
    "\n",
    "# Inläsning av indata\n",
    "#sökväg = \"files/exempel 18 1.txt\"\n",
    "sökväg = \"files/exempel 18 2.txt\"\n",
    "#sökväg = \"files/input 18.txt\"\n",
    "\n",
    "text = läsin_fil(sökväg)\n",
    "text"
   ]
  },
  {
   "cell_type": "code",
   "execution_count": 683,
   "metadata": {},
   "outputs": [],
   "source": [
    "def explodera(tal_att_förenkla: str) -> str:  \n",
    "    \"\"\"Tar in ett fisktal. Letar upp första innersta talparet som är nästlat på minst nivå 5. Om det existerar exploderas talparet och fisktalet fisktalet returneras.\"\"\"\n",
    "\n",
    "    # Sök igenom strängen med fisktalet\n",
    "    antal_v_parenteser = 0\n",
    "    for i, tecken in enumerate(tal_att_förenkla):\n",
    "        \n",
    "        # Ändra nivå av nästling\n",
    "        if tecken == \"[\":\n",
    "            antal_v_parenteser += 1\n",
    "            \n",
    "            # Hitta nästkommande innersta talpar\n",
    "            talpar = re.findall(\"\\[\\d\\d*,\\d\\d*\\]\" , tal_att_förenkla[i:])[0]\n",
    "            \n",
    "            # Hitta första innersta talparet med minst 5 '['\n",
    "            if antal_v_parenteser >= 5 and tal_att_förenkla[i : i + len(talpar)] == talpar:\n",
    "\n",
    "                # Hitta siffra före och beräkna nya värdet\n",
    "                try:\n",
    "                    tal_före = re.findall(\"\\d\\d*\", tal_att_förenkla[:i])[-1]\n",
    "                    nytt_tal_vänster = int(tal_före) + int(eval(talpar)[0])\n",
    "                except IndexError:\n",
    "                    tal_före = ''\n",
    "                    nytt_tal_vänster = ''\n",
    "\n",
    "                # Hitta siffra efter och beräkna nya värdet\n",
    "                try: \n",
    "                    tal_efter = re.findall(\"\\d\\d*\", tal_att_förenkla[i:])[2]\n",
    "                    nytt_tal_höger =int(tal_efter) + int(eval(talpar)[1])\n",
    "                except IndexError:\n",
    "                    tal_efter = ''\n",
    "                    nytt_tal_höger = ''\n",
    "\n",
    "                # Hitta index för tal före\n",
    "                for  j in range(len(tal_att_förenkla[:i]), 0, -1):\n",
    "                    if tal_att_förenkla[j].isdigit(): break\n",
    "                \n",
    "                # Explodera talpar\n",
    "                förenklat_tal = (((tal_att_förenkla[:j-len(tal_före)+1 ] + str(nytt_tal_vänster) + tal_att_förenkla[j+1: i ])  if nytt_tal_vänster != '' else tal_att_förenkla[:i]) # Del före talparet\n",
    "                                + (tal_att_förenkla[i:].replace(talpar, '0', 1).replace(tal_efter, str(nytt_tal_höger), 1))) # Talparet och del efter\n",
    "\n",
    "                return förenklat_tal, True # exploderat = True\n",
    "\n",
    "        elif tecken == \"]\":\n",
    "            antal_v_parenteser -= 1\n",
    "        \n",
    "    return tal_att_förenkla, False # exploderat = False"
   ]
  },
  {
   "cell_type": "code",
   "execution_count": 684,
   "metadata": {},
   "outputs": [],
   "source": [
    "def split(tal_att_förenkla: str) -> str:   \n",
    "    \"\"\"Tar in ett fisktal och letar upp del av ett talpar som är mer än en siffra. Splittar denna och returnerar fisktalet igen.\"\"\"\n",
    "    \n",
    "    # Hitta alla tal i strängen som är minst två siffror\n",
    "    flersiffriga_tal = re.findall(\"\\d\\d\\d*\" , tal_att_förenkla)\n",
    "    \n",
    "    # Splitta första hittade talet\n",
    "    if flersiffriga_tal:\n",
    "        tal = flersiffriga_tal[0]\n",
    "        index = tal_att_förenkla.index(tal)\n",
    "        \n",
    "        # Nytt talpar att sätta in\n",
    "        ny_split_sträng = f\"[{str(math.floor(int(tal)/2))},{str(math.ceil(int(tal)/2))}]\" \n",
    "\n",
    "        # Byt flersiffrigt tal mot nytt talpar    \n",
    "        tal_att_förenkla = tal_att_förenkla[: index] + ny_split_sträng + tal_att_förenkla[index + len(tal):]\n",
    "\n",
    "    return tal_att_förenkla\n",
    "          "
   ]
  },
  {
   "cell_type": "code",
   "execution_count": 685,
   "metadata": {},
   "outputs": [],
   "source": [
    "def magnitud(tal: str) -> int:\n",
    "    \"\"\"Tar in ett fisktal och returnerar dess magnitud\"\"\"\n",
    "    \n",
    "    # Iterera tills ingen skillnad mot föregående iteration\n",
    "    tal_föregående = \"\"\n",
    "    while tal != tal_föregående:\n",
    "        tal_föregående = tal     \n",
    "\n",
    "        # Hitta alla innersta talpar\n",
    "        talpar = re.findall(\"\\[\\d\\d*,\\d\\d*\\]\" , tal)\n",
    "\n",
    "        # Ersätt talpar med dess magnitud\n",
    "        for tp in talpar:\n",
    "            ersätt_med = str(3 * eval(tp)[0] + 2 * eval(tp)[1])\n",
    "            tal = tal.replace(tp, ersätt_med)\n",
    "\n",
    "    return int(tal)"
   ]
  },
  {
   "cell_type": "code",
   "execution_count": 686,
   "metadata": {},
   "outputs": [],
   "source": [
    "def förenkla(tal_att_förenkla: str) -> str:\n",
    "    \"\"\"Tar in ett fisktal och returnerar det förenklade talet.\"\"\"\n",
    "    förenklat_föregående = ''\n",
    "    while tal_att_förenkla != förenklat_föregående:\n",
    "        förenklat_föregående = tal_att_förenkla\n",
    "\n",
    "        # Explodera par\n",
    "        tal_att_förenkla, ex = explodera(tal_att_förenkla)\n",
    "\n",
    "        # Split\n",
    "        if not ex:\n",
    "            tal_att_förenkla = split(tal_att_förenkla)\n",
    "\n",
    "    return tal_att_förenkla        "
   ]
  },
  {
   "cell_type": "code",
   "execution_count": 687,
   "metadata": {},
   "outputs": [],
   "source": [
    "def addition(tal1: str, tal2: str) -> str:\n",
    "    \"\"\"Tar in två fisktal och returnerar summan av dessa i förenklad form.\"\"\"\n",
    "    return förenkla(\"[\" + \",\".join([tal1.strip(), tal2.strip()]) + \"]\")\n",
    "   "
   ]
  },
  {
   "cell_type": "code",
   "execution_count": 690,
   "metadata": {},
   "outputs": [
    {
     "name": "stdout",
     "output_type": "stream",
     "text": [
      "[[[[6,7],[7,7]],[[7,6],[7,6]]],[[[6,6],[7,6]],[[6,0],[9,4]]]]\n",
      "Magnituden av summan blir 3916.\n"
     ]
    }
   ],
   "source": [
    "# Lägg till första talet\n",
    "summa = text[0].strip()\n",
    "\n",
    "# Lägg till och förenkla resten av alla tal\n",
    "for tal in text[1:]:\n",
    "    summa = addition(summa, tal)\n",
    "\n",
    "# Beräkna svar\n",
    "print(summa)\n",
    "print(f\"Magnituden av summan blir {magnitud(summa)}.\")\n"
   ]
  },
  {
   "cell_type": "markdown",
   "metadata": {},
   "source": [
    "### Del 2"
   ]
  },
  {
   "cell_type": "code",
   "execution_count": 691,
   "metadata": {},
   "outputs": [
    {
     "name": "stdout",
     "output_type": "stream",
     "text": [
      "Den största möjliga magnituden är 4087.\n"
     ]
    }
   ],
   "source": [
    "magnituder = []\n",
    "\n",
    "# Testa för alla kobinationer av tal\n",
    "for tal1 in text:\n",
    "    for tal2 in text:\n",
    "        \n",
    "        # Kontrollera att det är två olika tal som adderas\n",
    "        if tal1 == tal2:\n",
    "            continue\n",
    "        \n",
    "        # Summera och beräkna magnitud för varje kobination\n",
    "        summa = addition(tal1, tal2)\n",
    "        magnituder.append(magnitud(summa))\n",
    "\n",
    "# Beräkna svaret\n",
    "print(f\"Den största möjliga magnituden är {max(magnituder)}.\")"
   ]
  },
  {
   "cell_type": "markdown",
   "metadata": {},
   "source": [
    "## Lucka 19\n",
    "### Del 1\n"
   ]
  },
  {
   "cell_type": "code",
   "execution_count": null,
   "metadata": {},
   "outputs": [],
   "source": []
  },
  {
   "cell_type": "markdown",
   "metadata": {},
   "source": [
    "### Del 2"
   ]
  },
  {
   "cell_type": "code",
   "execution_count": null,
   "metadata": {},
   "outputs": [],
   "source": []
  },
  {
   "cell_type": "markdown",
   "metadata": {},
   "source": [
    "## Lucka 20\n",
    "### Del 1\n"
   ]
  },
  {
   "cell_type": "markdown",
   "metadata": {},
   "source": [
    "### Del 2"
   ]
  },
  {
   "cell_type": "markdown",
   "metadata": {},
   "source": [
    "## Lucka 21\n",
    "### Del 1\n"
   ]
  },
  {
   "cell_type": "markdown",
   "metadata": {},
   "source": [
    "### Del 2"
   ]
  },
  {
   "cell_type": "markdown",
   "metadata": {},
   "source": [
    "## Lucka 22\n",
    "### Del 1\n"
   ]
  },
  {
   "cell_type": "markdown",
   "metadata": {},
   "source": [
    "### Del 2"
   ]
  },
  {
   "cell_type": "markdown",
   "metadata": {},
   "source": [
    "## Lucka 23\n",
    "### Del 1\n"
   ]
  },
  {
   "cell_type": "markdown",
   "metadata": {},
   "source": [
    "### Del 2"
   ]
  },
  {
   "cell_type": "markdown",
   "metadata": {},
   "source": [
    "## Lucka 24\n",
    "### Del 1\n"
   ]
  },
  {
   "cell_type": "markdown",
   "metadata": {},
   "source": [
    "### Del 2"
   ]
  },
  {
   "cell_type": "markdown",
   "metadata": {},
   "source": [
    "## Lucka 25\n",
    "### Del 1\n"
   ]
  },
  {
   "cell_type": "markdown",
   "metadata": {},
   "source": [
    "### Del 2"
   ]
  }
 ],
 "metadata": {
  "interpreter": {
   "hash": "f478fc9176ae27b1fcbca8069f8c2be4be0c1bc7299e1ed03f2b6fc59f3faf8f"
  },
  "kernelspec": {
   "display_name": "Python 3.9.7 64-bit ('python-programming-Erik-Larsson-ctfcgb4Z': pipenv)",
   "language": "python",
   "name": "python3"
  },
  "language_info": {
   "codemirror_mode": {
    "name": "ipython",
    "version": 3
   },
   "file_extension": ".py",
   "mimetype": "text/x-python",
   "name": "python",
   "nbconvert_exporter": "python",
   "pygments_lexer": "ipython3",
   "version": "3.9.7"
  },
  "orig_nbformat": 4
 },
 "nbformat": 4,
 "nbformat_minor": 2
}
